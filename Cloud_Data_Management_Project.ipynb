{
  "nbformat": 4,
  "nbformat_minor": 0,
  "metadata": {
    "colab": {
      "name": "Cloud_Data_Management_Project.ipynb",
      "provenance": [],
      "collapsed_sections": []
    },
    "kernelspec": {
      "display_name": "Python 3",
      "name": "python3"
    },
    "language_info": {
      "name": "python"
    }
  },
  "cells": [
    {
      "cell_type": "markdown",
      "metadata": {
        "id": "TjPUmHAarQTQ"
      },
      "source": [
        "<h1>Cloud Data Management Project: COVID19 analysis</h1>\n",
        "<h2>730030 Vladi VALSECCHI & 730113 Gianluca MOLTENI</h2>\n",
        "<p>The project aims to analyze the SARS-CoV-19 pandemic, commonly known as Coronavirus or Covid19 for short.\n",
        "Through queries on various datasets, relating to the infection and the vaccination campaign, we will investigate different consequences of this pandemic.</p>"
      ]
    },
    {
      "cell_type": "code",
      "metadata": {
        "colab": {
          "base_uri": "https://localhost:8080/"
        },
        "id": "Ji87ajNfCj5y",
        "outputId": "226aac72-ecd3-412d-9bb2-f3e8af1fca4d"
      },
      "source": [
        "#install pyspark\n",
        "!pip install pyspark"
      ],
      "execution_count": null,
      "outputs": [
        {
          "output_type": "stream",
          "text": [
            "Requirement already satisfied: pyspark in /usr/local/lib/python3.7/dist-packages (3.1.2)\n",
            "Requirement already satisfied: py4j==0.10.9 in /usr/local/lib/python3.7/dist-packages (from pyspark) (0.10.9)\n"
          ],
          "name": "stdout"
        }
      ]
    },
    {
      "cell_type": "code",
      "metadata": {
        "id": "eEY4vcJHBnV6"
      },
      "source": [
        "#Import\n",
        "from pyspark.sql import SparkSession\n",
        "import pandas as pd\n",
        "import numpy as np"
      ],
      "execution_count": null,
      "outputs": []
    },
    {
      "cell_type": "code",
      "metadata": {
        "id": "M-In8M7KBTsg"
      },
      "source": [
        "#Datasets urls\n",
        "url_region=\"https://raw.githubusercontent.com/pcm-dpc/COVID-19/master/dati-regioni/dpc-covid19-ita-regioni.csv\"\n",
        "url_vaccine=\"https://raw.githubusercontent.com/italia/covid19-opendata-vaccini/master/dati/somministrazioni-vaccini-latest.csv\""
      ],
      "execution_count": null,
      "outputs": []
    },
    {
      "cell_type": "code",
      "metadata": {
        "id": "9EFJckCGBTqD"
      },
      "source": [
        "#Create pandas data frame from url\n",
        "pdf_r=pd.read_csv(url_region)\n",
        "pdf_v=pd.read_csv(url_vaccine)"
      ],
      "execution_count": null,
      "outputs": []
    },
    {
      "cell_type": "code",
      "metadata": {
        "id": "jGWzyfFNBTX7"
      },
      "source": [
        "#fix regions dataset (keep only date yyyy-mm-dd)\n",
        "pdf_r['data']=pdf_r['data'].str[:10] #keep only the first 10 characters\n",
        "#fix vaccine dataset (Provincia Autonoma di Trento and Bolzano from region code 4 to 21 and 22)\n",
        "unique_areas=pdf_v.nome_area.unique()#create unique area names list\n",
        "pdf_v.loc[pdf_v.nome_area == unique_areas[11], \"codice_regione_ISTAT\"] = np.int64(21)#change unique area name region code in position 11 from 4 to 21\n",
        "pdf_v.loc[pdf_v.nome_area == unique_areas[12], \"codice_regione_ISTAT\"] = np.int64(22)#change unique area name region code in position 12 from 4 to 22"
      ],
      "execution_count": null,
      "outputs": []
    },
    {
      "cell_type": "code",
      "metadata": {
        "id": "BKPOrElBumWT"
      },
      "source": [
        "#Spark setup\n",
        "spark = SparkSession.builder.appName(\"Query\").getOrCreate()\n",
        "spark.conf.set(\"spark.sql.execution.arrow.enabled\", \"true\")"
      ],
      "execution_count": null,
      "outputs": []
    },
    {
      "cell_type": "code",
      "metadata": {
        "id": "d_l-msv5GKbq"
      },
      "source": [
        "#Create spark data frame from pandas data frame\n",
        "dpc_covid19_ita_regioni = spark.createDataFrame(pdf_r)#create spark dataframe for dpc_covid19_ita_regioni\n",
        "somministrazioni_vaccini_latest=spark.createDataFrame(pdf_v)#create spark dataframe for somministrazioni_vaccini_latest"
      ],
      "execution_count": null,
      "outputs": []
    },
    {
      "cell_type": "code",
      "metadata": {
        "id": "GYFCTWS7GKNV"
      },
      "source": [
        "#Create temporary views that will be used in the queries\n",
        "dpc_covid19_ita_regioni.createOrReplaceTempView(\"base\")\n",
        "somministrazioni_vaccini_latest.createOrReplaceTempView(\"base2\")"
      ],
      "execution_count": null,
      "outputs": []
    },
    {
      "cell_type": "code",
      "metadata": {
        "colab": {
          "base_uri": "https://localhost:8080/"
        },
        "id": "aDaaROAvGmY_",
        "outputId": "ca3c3f78-fad6-4046-8d4b-98d10ff5b99a"
      },
      "source": [
        "dpc_covid19_ita_regioni.printSchema()"
      ],
      "execution_count": null,
      "outputs": [
        {
          "output_type": "stream",
          "text": [
            "root\n",
            " |-- data: string (nullable = true)\n",
            " |-- stato: string (nullable = true)\n",
            " |-- codice_regione: long (nullable = true)\n",
            " |-- denominazione_regione: string (nullable = true)\n",
            " |-- lat: double (nullable = true)\n",
            " |-- long: double (nullable = true)\n",
            " |-- ricoverati_con_sintomi: long (nullable = true)\n",
            " |-- terapia_intensiva: long (nullable = true)\n",
            " |-- totale_ospedalizzati: long (nullable = true)\n",
            " |-- isolamento_domiciliare: long (nullable = true)\n",
            " |-- totale_positivi: long (nullable = true)\n",
            " |-- variazione_totale_positivi: long (nullable = true)\n",
            " |-- nuovi_positivi: long (nullable = true)\n",
            " |-- dimessi_guariti: long (nullable = true)\n",
            " |-- deceduti: long (nullable = true)\n",
            " |-- casi_da_sospetto_diagnostico: double (nullable = true)\n",
            " |-- casi_da_screening: double (nullable = true)\n",
            " |-- totale_casi: long (nullable = true)\n",
            " |-- tamponi: long (nullable = true)\n",
            " |-- casi_testati: double (nullable = true)\n",
            " |-- note: string (nullable = true)\n",
            " |-- ingressi_terapia_intensiva: double (nullable = true)\n",
            " |-- note_test: string (nullable = true)\n",
            " |-- note_casi: string (nullable = true)\n",
            " |-- totale_positivi_test_molecolare: double (nullable = true)\n",
            " |-- totale_positivi_test_antigenico_rapido: double (nullable = true)\n",
            " |-- tamponi_test_molecolare: double (nullable = true)\n",
            " |-- tamponi_test_antigenico_rapido: double (nullable = true)\n",
            " |-- codice_nuts_1: string (nullable = true)\n",
            " |-- codice_nuts_2: string (nullable = true)\n",
            "\n"
          ],
          "name": "stdout"
        }
      ]
    },
    {
      "cell_type": "code",
      "metadata": {
        "colab": {
          "base_uri": "https://localhost:8080/"
        },
        "id": "0AtG1kWIMTyf",
        "outputId": "a8e5b627-b691-44db-d34e-f2c7a93b2765"
      },
      "source": [
        "somministrazioni_vaccini_latest.printSchema()"
      ],
      "execution_count": null,
      "outputs": [
        {
          "output_type": "stream",
          "text": [
            "root\n",
            " |-- data_somministrazione: string (nullable = true)\n",
            " |-- fornitore: string (nullable = true)\n",
            " |-- area: string (nullable = true)\n",
            " |-- fascia_anagrafica: string (nullable = true)\n",
            " |-- sesso_maschile: long (nullable = true)\n",
            " |-- sesso_femminile: long (nullable = true)\n",
            " |-- prima_dose: long (nullable = true)\n",
            " |-- seconda_dose: long (nullable = true)\n",
            " |-- pregressa_infezione: long (nullable = true)\n",
            " |-- codice_NUTS1: string (nullable = true)\n",
            " |-- codice_NUTS2: string (nullable = true)\n",
            " |-- codice_regione_ISTAT: long (nullable = true)\n",
            " |-- nome_area: string (nullable = true)\n",
            "\n"
          ],
          "name": "stdout"
        }
      ]
    },
    {
      "cell_type": "markdown",
      "metadata": {
        "id": "Y1e3-I0zMi5y"
      },
      "source": [
        "********************************************************************************\n",
        "Query 0: show last day recorded for each region\n",
        "\n",
        "SELECT * --select all\n",
        "\n",
        "FROM base --from dpc_covid19_ita_regioni\n",
        "\n",
        "ORDER BY data DESC --order from the biggest to the smallest value\n",
        "\n",
        "LIMIT 21 --limit to 21 to get only 1 result for each region"
      ]
    },
    {
      "cell_type": "code",
      "metadata": {
        "colab": {
          "base_uri": "https://localhost:8080/"
        },
        "id": "MI1AFW3_Mikd",
        "outputId": "9b6c72ee-f677-4e82-80c9-6d3257f2b206"
      },
      "source": [
        "query_0=spark.sql(\"SELECT * FROM base ORDER BY data DESC LIMIT 21\")\n",
        "query_0.show(21)"
      ],
      "execution_count": null,
      "outputs": [
        {
          "output_type": "stream",
          "text": [
            "+----------+-----+--------------+---------------------+-----------+------------------+----------------------+-----------------+--------------------+----------------------+---------------+--------------------------+--------------+---------------+--------+----------------------------+-----------------+-----------+--------+------------+--------------------+--------------------------+---------+--------------------+-------------------------------+--------------------------------------+-----------------------+------------------------------+-------------+-------------+\n",
            "|      data|stato|codice_regione|denominazione_regione|        lat|              long|ricoverati_con_sintomi|terapia_intensiva|totale_ospedalizzati|isolamento_domiciliare|totale_positivi|variazione_totale_positivi|nuovi_positivi|dimessi_guariti|deceduti|casi_da_sospetto_diagnostico|casi_da_screening|totale_casi| tamponi|casi_testati|                note|ingressi_terapia_intensiva|note_test|           note_casi|totale_positivi_test_molecolare|totale_positivi_test_antigenico_rapido|tamponi_test_molecolare|tamponi_test_antigenico_rapido|codice_nuts_1|codice_nuts_2|\n",
            "+----------+-----+--------------+---------------------+-----------+------------------+----------------------+-----------------+--------------------+----------------------+---------------+--------------------------+--------------+---------------+--------+----------------------------+-----------------+-----------+--------+------------+--------------------+--------------------------+---------+--------------------+-------------------------------+--------------------------------------+-----------------------+------------------------------+-------------+-------------+\n",
            "|2021-07-13|  ITA|            13|              Abruzzo|42.35122196|       13.39843823|                    28|                1|                  29|                   903|            932|                       -10|            33|          71751|    2512|                        null|             null|      75195| 1751751|    706224.0|                null|                       0.0|     null|                null|                        75195.0|                                   0.0|              1216563.0|                      535188.0|          ITF|         ITF1|\n",
            "|2021-07-13|  ITA|             2|        Valle d'Aosta|45.73750286|       7.320149366|                     0|                0|                   0|                    19|             19|                        -3|             1|          11210|     474|                        null|             null|      11703|  144342|     68309.0|                null|                       0.0|     null|                null|                        11025.0|                                 678.0|               101764.0|                       42578.0|          ITC|         ITC2|\n",
            "|2021-07-13|  ITA|             5|               Veneto|45.43490485|       12.33845213|                    42|                8|                  50|                  5225|           5275|                       194|           254|         409845|   11623|                        null|             null|     426743| 8964062|   1861010.0|                null|                       2.0|     null|                null|                       414719.0|                               12024.0|              5773091.0|                     3190971.0|          ITH|         ITH3|\n",
            "|2021-07-13|  ITA|            17|           Basilicata|40.63947052|       15.80514834|                    12|                0|                  12|                   542|            554|                        -4|             3|          25899|     591|                        null|             null|      27044|  399971|    213303.0| Il numero totale...|                       0.0|     null|                null|                        27044.0|                                   0.0|               381422.0|                       18549.0|          ITF|         ITF5|\n",
            "|2021-07-13|  ITA|            18|             Calabria|38.90597598|       16.59440194|                    44|                2|                  46|                  2009|           2055|                        -4|            45|          66096|    1236|                        null|             null|      69387|  956364|    875212.0|                null|                       0.0|     null|                null|                        69373.0|                                  14.0|               888477.0|                       67887.0|          ITF|         ITF6|\n",
            "|2021-07-13|  ITA|            15|             Campania|40.83956555|       14.25084984|                   197|               14|                 211|                  6561|           6772|                       -32|           136|         411799|    7551|                        null|             null|     426122| 5433896|   3299268.0|                null|                       0.0|     null|                null|                       414534.0|                               11588.0|              4669021.0|                      764875.0|          ITF|         ITF3|\n",
            "|2021-07-13|  ITA|             8|       Emilia-Romagna|44.49436681|11.341720800000001|                   144|               13|                 157|                  1956|           2113|                       -83|            76|         372408|   13268|                        null|             null|     387789| 6924098|   1925988.0|Sono stati elimin...|                       0.0|     null|                null|                       387467.0|                                 322.0|              5083798.0|                     1840300.0|          ITH|         ITH5|\n",
            "|2021-07-13|  ITA|             6| Friuli Venezia Gi...| 45.6494354|       13.76813649|                     4|                1|                   5|                   224|            229|                         4|            15|         103107|    3789|                        null|             null|     107125| 2214662|    695039.0|Il totale dei cas...|                       0.0|     null|                null|                        92634.0|                               14491.0|              1833732.0|                      380930.0|          ITH|         ITH4|\n",
            "|2021-07-13|  ITA|            12|                Lazio|41.89277044|       12.48366722|                   129|               25|                 154|                  2001|           2155|                       -64|           166|         336904|    8380|                        null|             null|     347439| 7902542|   4487414.0|                null|                       0.0|     null|                null|                       338848.0|                                8591.0|              5055403.0|                     2847139.0|          ITI|         ITI4|\n",
            "|2021-07-13|  ITA|             7|              Liguria|44.41149315|         8.9326992|                    11|                6|                  17|                   168|            185|                        10|            25|          99093|    4352|                        null|             null|     103630| 1817831|    703931.0|                null|                       0.0|     null|In Regione Liguri...|                       103630.0|                                   0.0|              1405066.0|                      412765.0|          ITC|         ITC3|\n",
            "|2021-07-13|  ITA|             3|            Lombardia|45.46679409|       9.190347404|                   131|               35|                 166|                  7674|           7840|                       212|           241|         802249|   33802|                        null|             null|     843891|11963426|   4740895.0|                null|                       0.0|     null|                null|                       789170.0|                               54721.0|              9568562.0|                     2394864.0|          ITC|         ITC4|\n",
            "|2021-07-13|  ITA|            11|               Marche|43.61675973|        13.5188753|                     9|                2|                  11|                  1328|           1339|                        10|            21|          99670|    3038|                        null|             null|     104047| 1325881|    775056.0|                null|                       0.0|     null|                null|                       104047.0|                                   0.0|              1180432.0|                      145449.0|          ITI|         ITI3|\n",
            "|2021-07-13|  ITA|            14|               Molise|41.55774754|       14.65916051|                     1|                0|                   1|                    54|             55|                        -7|             0|          13203|     492|                        null|             null|      13750|  244525|    211215.0|                null|                       0.0|     null|                null|                        13750.0|                                   0.0|               231495.0|                       13030.0|          ITF|         ITF2|\n",
            "|2021-07-13|  ITA|            21|         P.A. Bolzano|46.49933453|       11.35662422|                     6|                2|                   8|                   131|            139|                        12|            18|          72089|    1182|                        null|             null|      73410| 1670110|    429693.0|                null|                       0.0|     null|18 nuovi positivi...|                        60178.0|                               13232.0|               601182.0|                     1068928.0|          ITH|         ITH1|\n",
            "|2021-07-13|  ITA|            22|          P.A. Trento|46.06893511|       11.12123097|                     0|                0|                   0|                    49|             49|                        -3|            10|          44416|    1363|                        null|             null|      45828|  884608|    239343.0|                null|                       0.0|     null|                null|                        32803.0|                               13025.0|               685527.0|                      199081.0|          ITH|         ITH2|\n",
            "|2021-07-13|  ITA|             1|             Piemonte| 45.0732745|       7.680687483|                    55|                3|                  58|                   719|            777|                        26|            53|         350885|   11698|                        null|             null|     363360| 5200541|   2033747.0|                null|                       1.0|     null|                null|                       344582.0|                               18778.0|              3116852.0|                     2083689.0|          ITC|         ITC1|\n",
            "|2021-07-13|  ITA|            16|               Puglia|41.12559576|       16.86736689|                    69|                8|                  77|                  1635|           1712|                      -167|            97|         245548|    6653|                        null|             null|     253913| 2748902|   1256069.0|                null|                       0.0|     null|                null|                       253004.0|                                 909.0|              2433971.0|                      314931.0|          ITF|         ITF4|\n",
            "|2021-07-13|  ITA|            20|             Sardegna|39.21531192|       9.110616306|                    42|                1|                  43|                  2520|           2563|                        77|            86|          53611|    1492|                        null|             null|      57666| 1419811|    828452.0|                null|                       0.0|     null|                null|                        57649.0|                                  17.0|               989603.0|                      430208.0|          ITG|         ITG2|\n",
            "|2021-07-13|  ITA|            19|              Sicilia|38.11569725|13.362356699999998|                   139|               20|                 159|                  3636|           3795|                        60|           174|         223823|    5996|                        null|             null|     233614| 5038068|   1907421.0|                null|                       2.0|     null|                null|                       233614.0|                                   0.0|              2693478.0|                     2344590.0|          ITG|         ITG1|\n",
            "|2021-07-13|  ITA|             9|              Toscana|43.76923077|       11.25588885|                    57|               15|                  72|                  1396|           1468|                        -3|            65|         236719|    6892|                        null|             null|     245079| 5265110|   2412512.0|                null|                       2.0|     null|                null|                       241573.0|                                3506.0|              3933342.0|                     1331768.0|          ITI|         ITI1|\n",
            "|2021-07-13|  ITA|            10|               Umbria|43.10675841|       12.38824698|                     8|                1|                   9|                   614|            623|                        -2|            15|          54911|    1424|                        null|             null|      56958| 1504873|    396963.0|                null|                       0.0|     null|                null|                        56958.0|                                   0.0|               988983.0|                      515890.0|          ITI|         ITI2|\n",
            "+----------+-----+--------------+---------------------+-----------+------------------+----------------------+-----------------+--------------------+----------------------+---------------+--------------------------+--------------+---------------+--------+----------------------------+-----------------+-----------+--------+------------+--------------------+--------------------------+---------+--------------------+-------------------------------+--------------------------------------+-----------------------+------------------------------+-------------+-------------+\n",
            "\n"
          ],
          "name": "stdout"
        }
      ]
    },
    {
      "cell_type": "markdown",
      "metadata": {
        "id": "ubfUcvmzuwJA"
      },
      "source": [
        "********************************************************************************\n",
        "Query 1: show top 5 regions for most cases\n",
        "\n",
        "SELECT\n",
        "\n",
        "MAX(totale_casi) AS top_5_regions_for_most_cases, --get max value of \n",
        "totale_casi alias top_5_regions_for_most_cases\n",
        "\n",
        "denominazione_regione AS region --denominazione_regione alias region\n",
        "\n",
        "FROM (SELECT * FROM base ORDER BY data DESC LIMIT 21) --from rows with the last \n",
        "date recorded\n",
        "\n",
        "GROUP BY denominazione_regione --group each region name\n",
        "\n",
        "ORDER BY MAX(totale_casi) DESC  --order from biggest to smallest value\n",
        "\n",
        "LIMIT 5 --limit to 5 to get only the first 5 results"
      ]
    },
    {
      "cell_type": "code",
      "metadata": {
        "colab": {
          "base_uri": "https://localhost:8080/"
        },
        "id": "4IaJs8eMFz0_",
        "outputId": "d02c3704-fac1-4168-8dbf-e1534bf39363"
      },
      "source": [
        "query_1=spark.sql(\"SELECT MAX(totale_casi) AS top_5_regions_for_most_cases, denominazione_regione AS region FROM (SELECT * FROM base ORDER BY data DESC LIMIT 21) GROUP BY denominazione_regione ORDER BY MAX(totale_casi) DESC LIMIT 5\")\n",
        "query_1.show()"
      ],
      "execution_count": null,
      "outputs": [
        {
          "output_type": "stream",
          "text": [
            "+----------------------------+--------------+\n",
            "|top_5_regions_for_most_cases|        region|\n",
            "+----------------------------+--------------+\n",
            "|                      843891|     Lombardia|\n",
            "|                      426743|        Veneto|\n",
            "|                      426122|      Campania|\n",
            "|                      387789|Emilia-Romagna|\n",
            "|                      363360|      Piemonte|\n",
            "+----------------------------+--------------+\n",
            "\n"
          ],
          "name": "stdout"
        }
      ]
    },
    {
      "cell_type": "markdown",
      "metadata": {
        "id": "Rqgf5rgthYJq"
      },
      "source": [
        "********************************************************************************\n",
        "Query 2: show top 5 regions for less cases\n",
        "\n",
        "SELECT \n",
        "\n",
        "MIN(totale_casi) AS top_5_regions_for_less_cases, --get min value of totale_casi alias top_5_regions_for_less_cases\n",
        "\n",
        "denominazione_regione AS region  --denominazione_regione alias region\n",
        "\n",
        "FROM (SELECT * FROM base ORDER BY data DESC LIMIT 21)  --from rows with the last date recorded\n",
        "\n",
        "GROUP BY denominazione_regione --group each region name\n",
        "\n",
        "ORDER BY MIN(totale_casi) ASC --order from smallest to biggest value \n",
        "\n",
        "LIMIT 5 --limit to 5 to get only the first 5 results"
      ]
    },
    {
      "cell_type": "code",
      "metadata": {
        "colab": {
          "base_uri": "https://localhost:8080/"
        },
        "id": "2Irf3SayGCwW",
        "outputId": "cf6317eb-c3c1-4dda-834b-e43af39c820d"
      },
      "source": [
        "query_2=spark.sql(\"SELECT MIN(totale_casi) AS top_5_regions_for_less_cases, denominazione_regione AS region FROM (SELECT * FROM base ORDER BY data DESC LIMIT 21) GROUP BY denominazione_regione ORDER BY MIN(totale_casi) ASC LIMIT 5\")\n",
        "query_2.show()"
      ],
      "execution_count": null,
      "outputs": [
        {
          "output_type": "stream",
          "text": [
            "+----------------------------+-------------+\n",
            "|top_5_regions_for_less_cases|       region|\n",
            "+----------------------------+-------------+\n",
            "|                       11703|Valle d'Aosta|\n",
            "|                       13750|       Molise|\n",
            "|                       27044|   Basilicata|\n",
            "|                       45828|  P.A. Trento|\n",
            "|                       56958|       Umbria|\n",
            "+----------------------------+-------------+\n",
            "\n"
          ],
          "name": "stdout"
        }
      ]
    },
    {
      "cell_type": "markdown",
      "metadata": {
        "id": "RJnD9GClhnox"
      },
      "source": [
        "********************************************************************************\n",
        "Query 3: show average number of cases daily for each region\n",
        "\n",
        "SELECT \n",
        "\n",
        "AVG(nuovi_positivi) AS avg_new_cases_daily, --get average value of nuovi_positivi alias avg_new_cases_daily\n",
        "\n",
        "denominazione_regione AS region --denominazione_regione alias region\n",
        "\n",
        "FROM base --from dpc_covid19_ita_regioni\n",
        "\n",
        "GROUP BY denominazione_regione --group each region name\n",
        "\n",
        "ORDER BY AVG(nuovi_positivi) DESC --order from biggest to smallest value\n"
      ]
    },
    {
      "cell_type": "code",
      "metadata": {
        "colab": {
          "base_uri": "https://localhost:8080/"
        },
        "id": "4G9IMO8OGFeK",
        "outputId": "e2b63ecc-07d1-4f60-fa35-b4071a72d9da"
      },
      "source": [
        "query_3=spark.sql(\"SELECT AVG(nuovi_positivi) AS avg_new_cases_daily, denominazione_regione AS region FROM base GROUP BY denominazione_regione ORDER BY AVG(nuovi_positivi) DESC\")\n",
        "query_3.show(21)"
      ],
      "execution_count": null,
      "outputs": [
        {
          "output_type": "stream",
          "text": [
            "+-------------------+--------------------+\n",
            "|avg_new_cases_daily|              region|\n",
            "+-------------------+--------------------+\n",
            "| 1667.8162055335968|           Lombardia|\n",
            "|  843.3636363636364|              Veneto|\n",
            "|  842.0553359683795|            Campania|\n",
            "|  769.0889328063241|      Emilia-Romagna|\n",
            "|  723.2213438735178|            Piemonte|\n",
            "|  686.6363636363636|               Lazio|\n",
            "|  501.8102766798419|              Puglia|\n",
            "| 484.34584980237156|             Toscana|\n",
            "| 462.47233201581025|             Sicilia|\n",
            "|  213.4683794466403|Friuli Venezia Gi...|\n",
            "|  205.6304347826087|              Marche|\n",
            "| 204.42094861660078|             Liguria|\n",
            "|  148.9683794466403|             Abruzzo|\n",
            "| 137.10474308300394|            Calabria|\n",
            "| 124.43873517786561|        P.A. Bolzano|\n",
            "| 114.00197628458498|            Sardegna|\n",
            "| 112.56521739130434|              Umbria|\n",
            "|  89.80434782608695|         P.A. Trento|\n",
            "|  53.47826086956522|          Basilicata|\n",
            "| 27.181818181818183|              Molise|\n",
            "|  23.07509881422925|       Valle d'Aosta|\n",
            "+-------------------+--------------------+\n",
            "\n"
          ],
          "name": "stdout"
        }
      ]
    },
    {
      "cell_type": "markdown",
      "metadata": {
        "id": "euaK5ExPiLeM"
      },
      "source": [
        "********************************************************************************\n",
        "Query 4: show top 5 regions for most diagnostic tests done\n",
        "\n",
        "SELECT \n",
        "\n",
        "MAX(tamponi) AS top_5_regions_for_most_DiagnosticTests_done, --get max value of tamponi alias top_5_regions_for_most_DiagnosticTests_done\n",
        "\n",
        "denominazione_regione AS region --denominazione_regione alias region\n",
        "\n",
        "FROM (SELECT * FROM base ORDER BY data DESC LIMIT 21) --from rows with the last date recorded\n",
        "\n",
        "GROUP BY denominazione_regione --group each region name\n",
        "\n",
        "ORDER BY MAX(tamponi) DESC --order from biggest to smallest value\n",
        "\n",
        "LIMIT 5 --limit to 5 to get only the first 5 results"
      ]
    },
    {
      "cell_type": "code",
      "metadata": {
        "colab": {
          "base_uri": "https://localhost:8080/"
        },
        "id": "ABWuoSEaGIEe",
        "outputId": "39e23500-25fd-4175-fb39-09fcb5e7daf4"
      },
      "source": [
        "query_4=spark.sql(\"SELECT MAX(tamponi) AS top_5_regions_for_most_DiagnosticTests_done, denominazione_regione AS region FROM (SELECT * FROM base ORDER BY data DESC LIMIT 21) GROUP BY denominazione_regione ORDER BY MAX(tamponi) DESC LIMIT 5\")\n",
        "query_4.show()"
      ],
      "execution_count": null,
      "outputs": [
        {
          "output_type": "stream",
          "text": [
            "+-------------------------------------------+--------------+\n",
            "|top_5_regions_for_most_DiagnosticTests_done|        region|\n",
            "+-------------------------------------------+--------------+\n",
            "|                                   11963426|     Lombardia|\n",
            "|                                    8964062|        Veneto|\n",
            "|                                    7902542|         Lazio|\n",
            "|                                    6924098|Emilia-Romagna|\n",
            "|                                    5433896|      Campania|\n",
            "+-------------------------------------------+--------------+\n",
            "\n"
          ],
          "name": "stdout"
        }
      ]
    },
    {
      "cell_type": "markdown",
      "metadata": {
        "id": "7k9MDI-EiX8O"
      },
      "source": [
        "********************************************************************************\n",
        "Query 5: show top 5 regions for less diagnostic tests done\n",
        "\n",
        "SELECT \n",
        "\n",
        "MIN(tamponi) AS top_5_regions_for_less_DiagnosticTests_done, --get min value of tamponi alias top_5_regions_for_less_DiagnosticTests_done\n",
        "\n",
        "denominazione_regione AS region --denominazione_regione alias region\n",
        "\n",
        "FROM (SELECT * FROM base ORDER BY data DESC LIMIT 21) --from rows with the last date recorded\n",
        "\n",
        "GROUP BY denominazione_regione --group each region name\n",
        "\n",
        "ORDER BY MIN(tamponi) ASC --order from smallest to biggest value\n",
        "\n",
        "LIMIT 5 --limit to 5 to get only the first 5 results\n"
      ]
    },
    {
      "cell_type": "code",
      "metadata": {
        "colab": {
          "base_uri": "https://localhost:8080/"
        },
        "id": "dECMixbbGLB5",
        "outputId": "366acdfe-8147-4167-fe37-eb8a6cdc6ea9"
      },
      "source": [
        "query_5=spark.sql(\"SELECT MIN(tamponi) AS top_5_regions_for_less_DiagnosticTests_done, denominazione_regione AS region FROM (SELECT * FROM base ORDER BY data DESC LIMIT 21) GROUP BY denominazione_regione ORDER BY MIN(tamponi) ASC LIMIT 5\")\n",
        "query_5.show()"
      ],
      "execution_count": null,
      "outputs": [
        {
          "output_type": "stream",
          "text": [
            "+-------------------------------------------+-------------+\n",
            "|top_5_regions_for_less_DiagnosticTests_done|       region|\n",
            "+-------------------------------------------+-------------+\n",
            "|                                     144342|Valle d'Aosta|\n",
            "|                                     244525|       Molise|\n",
            "|                                     399971|   Basilicata|\n",
            "|                                     884608|  P.A. Trento|\n",
            "|                                     956364|     Calabria|\n",
            "+-------------------------------------------+-------------+\n",
            "\n"
          ],
          "name": "stdout"
        }
      ]
    },
    {
      "cell_type": "markdown",
      "metadata": {
        "id": "6wduU_KQicyT"
      },
      "source": [
        "********************************************************************************\n",
        "Query 6: show average number of diagnostic tests done daily for each region\n",
        "\n",
        "SELECT \n",
        "\n",
        "AVG(tamponi) AS avg_new_DiagnosticTests_daily, --get average value of tamponi alias avg_new_DiagnosticTests_daily\n",
        "\n",
        "denominazione_regione AS region --denominazione_regione alias region\n",
        "\n",
        "FROM base --from dpc_covid19_ita_regioni\n",
        "\n",
        "GROUP BY denominazione_regione --group each region name\n",
        "\n",
        "ORDER BY AVG(tamponi) DESC --order from the biggest to the smallest value\n"
      ]
    },
    {
      "cell_type": "code",
      "metadata": {
        "colab": {
          "base_uri": "https://localhost:8080/"
        },
        "id": "s0pd2IUIGNb9",
        "outputId": "b822648d-cacf-489c-999b-2a2cd8fab89c"
      },
      "source": [
        "query_6=spark.sql(\"SELECT AVG(tamponi) AS avg_new_DiagnosticTests_daily, denominazione_regione AS region FROM base GROUP BY denominazione_regione ORDER BY AVG(tamponi) DESC\")\n",
        "query_6.show(21)"
      ],
      "execution_count": null,
      "outputs": [
        {
          "output_type": "stream",
          "text": [
            "+-----------------------------+--------------------+\n",
            "|avg_new_DiagnosticTests_daily|              region|\n",
            "+-----------------------------+--------------------+\n",
            "|            4236973.332015811|           Lombardia|\n",
            "|            3225902.796442688|              Veneto|\n",
            "|           2509649.9980237153|               Lazio|\n",
            "|           2399146.1264822134|      Emilia-Romagna|\n",
            "|           1778264.9308300395|            Campania|\n",
            "|           1743723.0928853755|             Toscana|\n",
            "|           1686678.3577075098|            Piemonte|\n",
            "|           1486382.3932806323|             Sicilia|\n",
            "|            939772.3023715415|              Puglia|\n",
            "|            815072.2865612648|Friuli Venezia Gi...|\n",
            "|            637635.3478260869|             Liguria|\n",
            "|            566370.3656126482|             Abruzzo|\n",
            "|           502037.25889328064|        P.A. Bolzano|\n",
            "|            498379.9743083004|              Marche|\n",
            "|            492159.8577075099|              Umbria|\n",
            "|           470909.86363636365|            Sardegna|\n",
            "|           370628.00790513837|         P.A. Trento|\n",
            "|            362773.8577075099|            Calabria|\n",
            "|           152000.58300395258|          Basilicata|\n",
            "|            94195.68577075099|              Molise|\n",
            "|           53759.798418972336|       Valle d'Aosta|\n",
            "+-----------------------------+--------------------+\n",
            "\n"
          ],
          "name": "stdout"
        }
      ]
    },
    {
      "cell_type": "markdown",
      "metadata": {
        "id": "21TAKf4qigA6"
      },
      "source": [
        "********************************************************************************\n",
        "Query 7: show top 5 regions for most deaths\n",
        "\n",
        "SELECT \n",
        "\n",
        "MAX(deceduti) AS top_5_regions_for_most_deaths, --get max value of deceduti alias top_5_regions_for_most_deaths\n",
        "\n",
        "denominazione_regione AS region --denominazione_regione alias region\n",
        "\n",
        "FROM (SELECT * FROM base ORDER BY data DESC LIMIT 21) --from rows with the last date recorded\n",
        "\n",
        "GROUP BY denominazione_regione --group each region name\n",
        "\n",
        "ORDER BY MAX(deceduti) DESC --order from the biggest to the smallest value\n",
        "\n",
        "LIMIT 5 --limit to 5 to get only the first 5 results\n"
      ]
    },
    {
      "cell_type": "code",
      "metadata": {
        "colab": {
          "base_uri": "https://localhost:8080/"
        },
        "id": "YUDQSsEGGQIS",
        "outputId": "49082eb9-0183-4d44-aece-4de3c27f33ee"
      },
      "source": [
        "query_7=spark.sql(\"SELECT MAX(deceduti) AS top_5_regions_for_most_deaths, denominazione_regione AS region FROM (SELECT * FROM base ORDER BY data DESC LIMIT 21) GROUP BY denominazione_regione ORDER BY MAX(deceduti) DESC LIMIT 5\")\n",
        "query_7.show()"
      ],
      "execution_count": null,
      "outputs": [
        {
          "output_type": "stream",
          "text": [
            "+-----------------------------+--------------+\n",
            "|top_5_regions_for_most_deaths|        region|\n",
            "+-----------------------------+--------------+\n",
            "|                        33802|     Lombardia|\n",
            "|                        13268|Emilia-Romagna|\n",
            "|                        11698|      Piemonte|\n",
            "|                        11623|        Veneto|\n",
            "|                         8380|         Lazio|\n",
            "+-----------------------------+--------------+\n",
            "\n"
          ],
          "name": "stdout"
        }
      ]
    },
    {
      "cell_type": "markdown",
      "metadata": {
        "id": "MeZ35saDii1N"
      },
      "source": [
        "********************************************************************************\n",
        "Query 8: show top 5 regions for less deaths\n",
        "\n",
        "SELECT \n",
        "\n",
        "MIN(deceduti) AS top_5_regions_for_less_deaths, --get min value of deceduti alias top_5_regions_for_less_deaths\n",
        "\n",
        "denominazione_regione AS region --denominazione_regione alias region\n",
        "\n",
        "FROM (SELECT * FROM base ORDER BY data DESC LIMIT 21) --from rows with the last date recorded\n",
        "\n",
        "GROUP BY denominazione_regione --group each region name\n",
        "\n",
        "ORDER BY MIN(deceduti) ASC --order from smallest to the biggest value\n",
        "\n",
        "LIMIT 5 --limit to 5 to get only the first 5 results\n"
      ]
    },
    {
      "cell_type": "code",
      "metadata": {
        "colab": {
          "base_uri": "https://localhost:8080/"
        },
        "id": "1kzo0h55GSqr",
        "outputId": "c35331a3-dfe6-44ab-ac5b-04f7202bad97"
      },
      "source": [
        "query_8=spark.sql(\"SELECT MIN(deceduti) AS top_5_regions_for_less_deaths, denominazione_regione AS region FROM (SELECT * FROM base ORDER BY data DESC LIMIT 21) GROUP BY denominazione_regione ORDER BY MIN(deceduti) ASC LIMIT 5\")\n",
        "query_8.show()"
      ],
      "execution_count": null,
      "outputs": [
        {
          "output_type": "stream",
          "text": [
            "+-----------------------------+-------------+\n",
            "|top_5_regions_for_less_deaths|       region|\n",
            "+-----------------------------+-------------+\n",
            "|                          474|Valle d'Aosta|\n",
            "|                          492|       Molise|\n",
            "|                          591|   Basilicata|\n",
            "|                         1182| P.A. Bolzano|\n",
            "|                         1236|     Calabria|\n",
            "+-----------------------------+-------------+\n",
            "\n"
          ],
          "name": "stdout"
        }
      ]
    },
    {
      "cell_type": "markdown",
      "metadata": {
        "id": "NdWmjunMimbq"
      },
      "source": [
        "********************************************************************************\n",
        "Query 9: show average number of deaths daily for each region\n",
        "\n",
        "SELECT \n",
        "\n",
        "AVG(deceduti) AS avg_deaths_daily, --get average value of deceduti alias avg_deaths_daily\n",
        "\n",
        "denominazione_regione AS region --denominazione_regione alias region\n",
        "\n",
        "FROM base --from dpc_covid19_ita_regioni\n",
        "\n",
        "GROUP BY denominazione_regione --group each region name\n",
        "\n",
        "ORDER BY AVG(deceduti) DESC --order from the biggest to the smallest value\n"
      ]
    },
    {
      "cell_type": "code",
      "metadata": {
        "colab": {
          "base_uri": "https://localhost:8080/"
        },
        "id": "InCYkazUGVH-",
        "outputId": "143bfd11-88c1-4654-ac9d-0d3e42aa3b0d"
      },
      "source": [
        "query_9=spark.sql(\"SELECT AVG(deceduti) AS avg_deaths_daily, denominazione_regione AS region FROM base GROUP BY denominazione_regione ORDER BY AVG(deceduti) DESC\")\n",
        "query_9.show(21)"
      ],
      "execution_count": null,
      "outputs": [
        {
          "output_type": "stream",
          "text": [
            "+------------------+--------------------+\n",
            "|  avg_deaths_daily|              region|\n",
            "+------------------+--------------------+\n",
            "|21201.533596837944|           Lombardia|\n",
            "| 6920.652173913043|      Emilia-Romagna|\n",
            "| 6303.365612648221|            Piemonte|\n",
            "| 5273.818181818182|              Veneto|\n",
            "|3195.7509881422925|               Lazio|\n",
            "| 2871.195652173913|             Toscana|\n",
            "|2508.0573122529645|            Campania|\n",
            "|2390.6383399209485|             Liguria|\n",
            "|2305.9644268774705|              Puglia|\n",
            "|2113.2509881422925|             Sicilia|\n",
            "|1546.9841897233202|              Marche|\n",
            "|1476.3517786561265|Friuli Venezia Gi...|\n",
            "|1074.0197628458498|             Abruzzo|\n",
            "| 737.7094861660079|         P.A. Trento|\n",
            "| 592.9229249011858|        P.A. Bolzano|\n",
            "| 590.9584980237154|            Sardegna|\n",
            "| 528.6758893280632|              Umbria|\n",
            "|415.45652173913044|            Calabria|\n",
            "|264.04545454545456|       Valle d'Aosta|\n",
            "|205.34387351778656|          Basilicata|\n",
            "| 178.4822134387352|              Molise|\n",
            "+------------------+--------------------+\n",
            "\n"
          ],
          "name": "stdout"
        }
      ]
    },
    {
      "cell_type": "markdown",
      "metadata": {
        "id": "9vvQvpzhiolU"
      },
      "source": [
        "********************************************************************************\n",
        "Query 10: show top 5 regions for most healed\n",
        "\n",
        "SELECT \n",
        "\n",
        "MAX(dimessi_guariti) AS top_5_regions_for_most_healed, --get max value of dimessi_guariti \n",
        "\n",
        "denominazione_regione AS region --denominazione_regione alias region\n",
        "\n",
        "FROM (SELECT * FROM base ORDER BY data DESC LIMIT 21) --from rows with the last date recorded\n",
        "\n",
        "GROUP BY denominazione_regione --group each region name\n",
        "\n",
        "ORDER BY MAX(dimessi_guariti) DESC --order from the biggest to the smallest value\n",
        "\n",
        "LIMIT 5 --limit to 5 to get only the first 5 results\n"
      ]
    },
    {
      "cell_type": "code",
      "metadata": {
        "colab": {
          "base_uri": "https://localhost:8080/"
        },
        "id": "kbI8sryZGYIE",
        "outputId": "95e3a795-cad0-402f-85fb-81a29a903e5e"
      },
      "source": [
        "query_10=spark.sql(\"SELECT MAX(dimessi_guariti) AS top_5_regions_for_most_healed, denominazione_regione AS region FROM (SELECT * FROM base ORDER BY data DESC LIMIT 21) GROUP BY denominazione_regione ORDER BY MAX(dimessi_guariti) DESC LIMIT 5\")\n",
        "query_10.show()"
      ],
      "execution_count": null,
      "outputs": [
        {
          "output_type": "stream",
          "text": [
            "+-----------------------------+--------------+\n",
            "|top_5_regions_for_most_healed|        region|\n",
            "+-----------------------------+--------------+\n",
            "|                       802249|     Lombardia|\n",
            "|                       411799|      Campania|\n",
            "|                       409845|        Veneto|\n",
            "|                       372408|Emilia-Romagna|\n",
            "|                       350885|      Piemonte|\n",
            "+-----------------------------+--------------+\n",
            "\n"
          ],
          "name": "stdout"
        }
      ]
    },
    {
      "cell_type": "markdown",
      "metadata": {
        "id": "7Xukz3qmiraR"
      },
      "source": [
        "********************************************************************************\n",
        "Query 11: show top 5 regions for less healed\n",
        "\n",
        "SELECT \n",
        "\n",
        "MIN(dimessi_guariti) AS top_5_regions_for_less_healed, --get max value of dimessi_guariti alias top_5_regions_for_less_healed\n",
        "\n",
        "denominazione_regione AS region --denominazione_regione alias region\n",
        "\n",
        "FROM (SELECT * FROM base ORDER BY data DESC LIMIT 21) --from rows with the last date recorded\n",
        "\n",
        "GROUP BY denominazione_regione --group each region name\n",
        "\n",
        "ORDER BY MIN(dimessi_guariti) ASC --order from the smallest to the biggest value\n",
        "\n",
        "LIMIT 5 --limit to 5 to get only the first 5 results\n"
      ]
    },
    {
      "cell_type": "code",
      "metadata": {
        "colab": {
          "base_uri": "https://localhost:8080/"
        },
        "id": "vKVPlkzGGa1Q",
        "outputId": "f6ec9769-4fa8-4082-fdf1-b80a9f822650"
      },
      "source": [
        "query_11=spark.sql(\"SELECT MIN(dimessi_guariti) AS top_5_regions_for_less_healed, denominazione_regione AS region FROM (SELECT * FROM base ORDER BY data DESC LIMIT 21) GROUP BY denominazione_regione ORDER BY MIN(dimessi_guariti) ASC LIMIT 5\")\n",
        "query_11.show()"
      ],
      "execution_count": null,
      "outputs": [
        {
          "output_type": "stream",
          "text": [
            "+-----------------------------+-------------+\n",
            "|top_5_regions_for_less_healed|       region|\n",
            "+-----------------------------+-------------+\n",
            "|                        11210|Valle d'Aosta|\n",
            "|                        13203|       Molise|\n",
            "|                        25899|   Basilicata|\n",
            "|                        44416|  P.A. Trento|\n",
            "|                        53611|     Sardegna|\n",
            "+-----------------------------+-------------+\n",
            "\n"
          ],
          "name": "stdout"
        }
      ]
    },
    {
      "cell_type": "markdown",
      "metadata": {
        "id": "KOkFLx44iuBz"
      },
      "source": [
        "********************************************************************************\n",
        "Query 12: show average number of healed daily for each region\n",
        "\n",
        "SELECT \n",
        "\n",
        "AVG(dimessi_guariti) AS avg_healed_daily, --get average value of dimessi_guariti alias avg_healed_daily\n",
        "\n",
        "denominazione_regione AS region --denominazione_regione alias region\n",
        "\n",
        "FROM base --from dpc_covid19_ita_regioni\n",
        "\n",
        "GROUP BY denominazione_regione --group each region name\n",
        "\n",
        "ORDER BY AVG(dimessi_guariti) DESC --order from the biggest to the smallest value\n"
      ]
    },
    {
      "cell_type": "code",
      "metadata": {
        "colab": {
          "base_uri": "https://localhost:8080/"
        },
        "id": "wFH-5sDwGdSB",
        "outputId": "e92135eb-234c-4f9d-a399-ba8d35f56930"
      },
      "source": [
        "query_12=spark.sql(\"SELECT AVG(dimessi_guariti) AS avg_healed_daily, denominazione_regione AS region FROM base GROUP BY denominazione_regione ORDER BY AVG(dimessi_guariti) DESC\")\n",
        "query_12.show(21)"
      ],
      "execution_count": null,
      "outputs": [
        {
          "output_type": "stream",
          "text": [
            "+------------------+--------------------+\n",
            "|  avg_healed_daily|              region|\n",
            "+------------------+--------------------+\n",
            "| 297069.9624505929|           Lombardia|\n",
            "| 143929.3557312253|              Veneto|\n",
            "|125870.22134387352|            Piemonte|\n",
            "|116682.88735177866|      Emilia-Romagna|\n",
            "|107495.87351778656|            Campania|\n",
            "| 96871.41501976285|               Lazio|\n",
            "| 77513.57509881422|             Toscana|\n",
            "| 63654.11462450593|             Sicilia|\n",
            "| 61095.96442687747|              Puglia|\n",
            "|38441.650197628456|             Liguria|\n",
            "| 33442.66996047431|Friuli Venezia Gi...|\n",
            "|31922.851778656128|              Marche|\n",
            "|23620.152173913044|        P.A. Bolzano|\n",
            "|22018.723320158104|             Abruzzo|\n",
            "|18967.569169960476|              Umbria|\n",
            "|16755.013833992096|         P.A. Trento|\n",
            "| 16630.60276679842|            Calabria|\n",
            "|14179.754940711462|            Sardegna|\n",
            "| 6326.442687747036|          Basilicata|\n",
            "| 4374.353754940711|              Molise|\n",
            "| 4337.077075098814|       Valle d'Aosta|\n",
            "+------------------+--------------------+\n",
            "\n"
          ],
          "name": "stdout"
        }
      ]
    },
    {
      "cell_type": "markdown",
      "metadata": {
        "id": "jMYy0SOSixKV"
      },
      "source": [
        "********************************************************************************\n",
        "Query 13: show top 5 regions for most people in intensive care in a single day\n",
        "\n",
        "SELECT \n",
        "\n",
        "MAX(terapia_intensiva) AS top_5_regions_for_most_IC, --get max value of terapia_intensiva alias top_5_regions_for_most_IC\n",
        "\n",
        "denominazione_regione AS region --denominazione_regione alias region\n",
        "\n",
        "FROM base --from dpc_covid19_ita_regioni\n",
        "\n",
        "GROUP BY denominazione_regione --group each region name\n",
        "\n",
        "ORDER BY MAX(terapia_intensiva) DESC --order from the biggest to the smallest value\n",
        "\n",
        "LIMIT 5 --limit to 5 to get only the first 5 results\n"
      ]
    },
    {
      "cell_type": "code",
      "metadata": {
        "colab": {
          "base_uri": "https://localhost:8080/"
        },
        "id": "hbgACSwVH254",
        "outputId": "17e4d3b9-8bf5-4acb-86f5-cf887ef56404"
      },
      "source": [
        "query_13=spark.sql(\"SELECT MAX(terapia_intensiva) AS top_5_regions_for_most_IC, denominazione_regione AS region FROM base GROUP BY denominazione_regione ORDER BY MAX(terapia_intensiva) DESC LIMIT 5\")\n",
        "query_13.show(21)"
      ],
      "execution_count": null,
      "outputs": [
        {
          "output_type": "stream",
          "text": [
            "+-------------------------+--------------+\n",
            "|top_5_regions_for_most_IC|        region|\n",
            "+-------------------------+--------------+\n",
            "|                     1381|     Lombardia|\n",
            "|                      453|      Piemonte|\n",
            "|                      402|Emilia-Romagna|\n",
            "|                      398|         Lazio|\n",
            "|                      372|        Veneto|\n",
            "+-------------------------+--------------+\n",
            "\n"
          ],
          "name": "stdout"
        }
      ]
    },
    {
      "cell_type": "markdown",
      "metadata": {
        "id": "CaYKdo0-iztb"
      },
      "source": [
        "********************************************************************************\n",
        "Query 14: show top 5 regions for less people in intensive care in the last day recorded\n",
        "\n",
        "SELECT \n",
        "\n",
        "MIN(terapia_intensiva) AS top_5_regions_for_less_IC_in_the_last_day, --get min value of terapia_intensiva alias top_5_regions_for_less_IC_in_the_last_day\n",
        "\n",
        "denominazione_regione AS region --denominazione_regione alias region\n",
        "\n",
        "FROM (SELECT * FROM base ORDER BY data DESC LIMIT 21) --from rows with the last date recorded\n",
        "\n",
        "GROUP BY denominazione_regione --group each region name\n",
        "\n",
        "ORDER BY MIN(terapia_intensiva) ASC --order from the smallest to the biggest value\n",
        "\n",
        "LIMIT 5 --limit to 5 to get only the first 5 results\n"
      ]
    },
    {
      "cell_type": "code",
      "metadata": {
        "colab": {
          "base_uri": "https://localhost:8080/"
        },
        "id": "k66p8_lqKLbW",
        "outputId": "119aa79b-4b60-43dc-8a35-100d2b2a87b8"
      },
      "source": [
        "query_14=spark.sql(\"SELECT MIN(terapia_intensiva) AS top_5_regions_for_less_IC_in_the_last_day, denominazione_regione AS region FROM (SELECT * FROM base ORDER BY data DESC LIMIT 21) GROUP BY denominazione_regione ORDER BY MIN(terapia_intensiva) ASC LIMIT 5\")\n",
        "query_14.show()"
      ],
      "execution_count": null,
      "outputs": [
        {
          "output_type": "stream",
          "text": [
            "+-----------------------------------------+--------------------+\n",
            "|top_5_regions_for_less_IC_in_the_last_day|              region|\n",
            "+-----------------------------------------+--------------------+\n",
            "|                                        0|       Valle d'Aosta|\n",
            "|                                        0|          Basilicata|\n",
            "|                                        0|              Molise|\n",
            "|                                        0|         P.A. Trento|\n",
            "|                                        1|Friuli Venezia Gi...|\n",
            "+-----------------------------------------+--------------------+\n",
            "\n"
          ],
          "name": "stdout"
        }
      ]
    },
    {
      "cell_type": "markdown",
      "metadata": {
        "id": "fbcyvZ0si3nJ"
      },
      "source": [
        "********************************************************************************\n",
        "Query 15: show average number of people in intensive care daily for each region\n",
        "\n",
        "SELECT \n",
        "\n",
        "AVG(terapia_intensiva) AS avg_IC_daily, --get average value of terapia_intensiva alias avg_IC_daily\n",
        "\n",
        "denominazione_regione AS region --denominazione_regione alias region\n",
        "\n",
        "FROM base --from dpc_covid19_ita_regioni\n",
        "\n",
        "GROUP BY denominazione_regione --group each region name\n",
        "\n",
        "ORDER BY AVG(terapia_intensiva) DESC --order from the biggest to the smallest value\n"
      ]
    },
    {
      "cell_type": "code",
      "metadata": {
        "colab": {
          "base_uri": "https://localhost:8080/"
        },
        "id": "JFl3JV5UKLO2",
        "outputId": "252eb2ab-6672-494f-ac6f-bf2e7d65a6d4"
      },
      "source": [
        "query_15=spark.sql(\"SELECT AVG(terapia_intensiva) AS avg_IC_daily, denominazione_regione AS region FROM base GROUP BY denominazione_regione ORDER BY AVG(terapia_intensiva) DESC\")\n",
        "query_15.show(21)"
      ],
      "execution_count": null,
      "outputs": [
        {
          "output_type": "stream",
          "text": [
            "+------------------+--------------------+\n",
            "|      avg_IC_daily|              region|\n",
            "+------------------+--------------------+\n",
            "|398.07707509881425|           Lombardia|\n",
            "| 158.0592885375494|               Lazio|\n",
            "|147.72924901185772|      Emilia-Romagna|\n",
            "|147.51581027667984|            Piemonte|\n",
            "|125.36561264822134|              Veneto|\n",
            "|118.43873517786561|             Toscana|\n",
            "| 87.96837944664031|              Puglia|\n",
            "| 83.91304347826087|             Sicilia|\n",
            "| 73.49802371541502|            Campania|\n",
            "| 49.95652173913044|              Marche|\n",
            "| 47.58695652173913|             Liguria|\n",
            "|29.211462450592887|             Abruzzo|\n",
            "|27.523715415019762|Friuli Venezia Gi...|\n",
            "|26.954545454545453|              Umbria|\n",
            "|23.474308300395258|            Sardegna|\n",
            "| 20.75098814229249|         P.A. Trento|\n",
            "|14.867588932806324|        P.A. Bolzano|\n",
            "|14.640316205533598|            Calabria|\n",
            "| 5.723320158102767|          Basilicata|\n",
            "| 5.132411067193676|              Molise|\n",
            "| 4.262845849802371|       Valle d'Aosta|\n",
            "+------------------+--------------------+\n",
            "\n"
          ],
          "name": "stdout"
        }
      ]
    },
    {
      "cell_type": "markdown",
      "metadata": {
        "id": "GqxBVJuUi6hk"
      },
      "source": [
        "********************************************************************************\n",
        "Query 16: show region with most cases in a single day and date\n",
        "\n",
        "SELECT \n",
        "\n",
        "denominazione_regione AS region_with_most_cases_in_a_single_day, --denominazione_regione alias region_with_most_cases_in_a_single_day\n",
        "\n",
        "data AS date, --data alias date\n",
        "\n",
        "nuovi_positivi AS new_cases --nuovi_positivi alias new_cases\n",
        "\n",
        "FROM base --from dpc_covid19_ita_regioni\n",
        "\n",
        "ORDER BY nuovi_positivi DESC --order from the biggest to the smallest value\n",
        "\n",
        "LIMIT 1 --limit to 1 to get only the first result\n"
      ]
    },
    {
      "cell_type": "code",
      "metadata": {
        "colab": {
          "base_uri": "https://localhost:8080/"
        },
        "id": "A4r9obIvK-2R",
        "outputId": "d1e4aec9-b56d-4675-b4a8-7383ad7584ba"
      },
      "source": [
        "query_16=spark.sql(\"SELECT denominazione_regione AS region_with_most_cases_in_a_single_day, data AS date, nuovi_positivi AS new_cases FROM base ORDER BY nuovi_positivi DESC LIMIT 1\")\n",
        "query_16.show()"
      ],
      "execution_count": null,
      "outputs": [
        {
          "output_type": "stream",
          "text": [
            "+--------------------------------------+----------+---------+\n",
            "|region_with_most_cases_in_a_single_day|      date|new_cases|\n",
            "+--------------------------------------+----------+---------+\n",
            "|                             Lombardia|2020-11-07|    11489|\n",
            "+--------------------------------------+----------+---------+\n",
            "\n"
          ],
          "name": "stdout"
        }
      ]
    },
    {
      "cell_type": "markdown",
      "metadata": {
        "id": "SiUAAy0ii94Y"
      },
      "source": [
        "********************************************************************************\n",
        "Query 17: show date with biggest increase of cases in Italy and number of cases\n",
        "\n",
        "SELECT \n",
        "\n",
        "data AS date_with_most_cases_in_Italy, --data alias date_with_most_cases_in_Italy\n",
        "\n",
        "SUM(nuovi_positivi) AS cases --sum nuovi_positivi alias cases\n",
        "\n",
        "FROM base --from dpc_covid19_ita_regioni\n",
        "\n",
        "GROUP BY data --group each date\n",
        "\n",
        "ORDER BY SUM(nuovi_positivi) DESC --order from the biggest to the smallest value\n",
        "\n",
        "LIMIT 1 --limit to 1 to get only the first result\n"
      ]
    },
    {
      "cell_type": "code",
      "metadata": {
        "colab": {
          "base_uri": "https://localhost:8080/"
        },
        "id": "YYJ4aGr2NJ3s",
        "outputId": "4e2bd23c-8b99-4145-e8c6-14f2e45ff8b8"
      },
      "source": [
        "query_17=spark.sql(\"SELECT data AS date_with_biggest_increase_cases_in_Italy, SUM(nuovi_positivi) AS cases FROM base GROUP BY data ORDER BY SUM(nuovi_positivi) DESC LIMIT 1\")\n",
        "query_17.show()"
      ],
      "execution_count": null,
      "outputs": [
        {
          "output_type": "stream",
          "text": [
            "+-----------------------------------------+-----+\n",
            "|date_with_biggest_increase_cases_in_Italy|cases|\n",
            "+-----------------------------------------+-----+\n",
            "|                               2020-11-13|40902|\n",
            "+-----------------------------------------+-----+\n",
            "\n"
          ],
          "name": "stdout"
        }
      ]
    },
    {
      "cell_type": "markdown",
      "metadata": {
        "id": "bmA20cfMjA6O"
      },
      "source": [
        "********************************************************************************\n",
        "Query 18: show biggest increase of cases in a single region and date\n",
        "\n",
        "SELECT \n",
        "\n",
        "variazione_totale_positivi AS biggest_increase_of_cases, --variazione_totale_positivi alias biggest_increase_of_cases\n",
        "\n",
        "denominazione_regione AS region, --denominazione_regione alias region\n",
        "\n",
        "data AS date --data alias date\n",
        "\n",
        "FROM base --from dpc_covid19_ita_regioni\n",
        "\n",
        "ORDER BY variazione_totale_positivi DESC --order from the biggest to the smallest value\n",
        "\n",
        "LIMIT 1 --limit to 1 to get only the first result\n"
      ]
    },
    {
      "cell_type": "code",
      "metadata": {
        "colab": {
          "base_uri": "https://localhost:8080/"
        },
        "id": "PRdClrMtNJ1b",
        "outputId": "f97f43d4-565b-45e0-c199-28cddb314a08"
      },
      "source": [
        "query_18=spark.sql(\"SELECT variazione_totale_positivi AS biggest_increase_of_cases, denominazione_regione AS region, data AS date FROM base ORDER BY variazione_totale_positivi DESC LIMIT 1\")\n",
        "query_18.show()"
      ],
      "execution_count": null,
      "outputs": [
        {
          "output_type": "stream",
          "text": [
            "+-------------------------+---------+----------+\n",
            "|biggest_increase_of_cases|   region|      date|\n",
            "+-------------------------+---------+----------+\n",
            "|                    10263|Lombardia|2020-11-07|\n",
            "+-------------------------+---------+----------+\n",
            "\n"
          ],
          "name": "stdout"
        }
      ]
    },
    {
      "cell_type": "markdown",
      "metadata": {
        "id": "m1WGm2GajhTN"
      },
      "source": [
        "********************************************************************************\n",
        "Query 19: show biggest decrease of cases in a single region and date\n",
        "\n",
        "SELECT \n",
        "\n",
        "variazione_totale_positivi AS biggest_decrease_of_cases, --variazione_totale_positivi alias biggest_decrease_of_cases\n",
        "\n",
        "denominazione_regione AS region, --denominazione_regione alias region\n",
        "\n",
        "data AS date --data alias date\n",
        "\n",
        "FROM base --from dpc_covid19_ita_regioni\n",
        "\n",
        "ORDER BY variazione_totale_positivi ASC --order from the smallest to the biggest value\n",
        "\n",
        "LIMIT 1 --limit to 1 to get only the first result\n"
      ]
    },
    {
      "cell_type": "code",
      "metadata": {
        "colab": {
          "base_uri": "https://localhost:8080/"
        },
        "id": "D-_USbHaNJzM",
        "outputId": "a15b793d-c4bc-4055-cecd-e22b05503fbb"
      },
      "source": [
        "query_19=spark.sql(\"SELECT variazione_totale_positivi AS biggest_decrease_of_cases, denominazione_regione AS region, data AS date FROM base ORDER BY variazione_totale_positivi ASC LIMIT 1\")\n",
        "query_19.show()"
      ],
      "execution_count": null,
      "outputs": [
        {
          "output_type": "stream",
          "text": [
            "+-------------------------+--------+----------+\n",
            "|biggest_decrease_of_cases|  region|      date|\n",
            "+-------------------------+--------+----------+\n",
            "|                   -48092|Campania|2021-06-15|\n",
            "+-------------------------+--------+----------+\n",
            "\n"
          ],
          "name": "stdout"
        }
      ]
    },
    {
      "cell_type": "markdown",
      "metadata": {
        "id": "-xoMCTSVjkuY"
      },
      "source": [
        "********************************************************************************\n",
        "Query 20: show top 5 regions for most people in home isolation of all time\n",
        "\n",
        "SELECT \n",
        "\n",
        "MAX(isolamento_domiciliare) AS top_5_regions_for_most_home_isolation_of_all_time, --get max value of isolamento_domiciliare alias top_5_regions_for_most_home_isolation_of_all_time\n",
        "\n",
        "denominazione_regione AS region --denominazione_regione alias region\n",
        "\n",
        "FROM base --from dpc_covid19_ita_regioni\n",
        "\n",
        "GROUP BY denominazione_regione --group each region name\n",
        "\n",
        "ORDER BY MAX(isolamento_domiciliare) DESC --order from the biggest to the smallest value\n",
        "\n",
        "LIMIT 5 --limit to 5 to get only the first 5 results\n"
      ]
    },
    {
      "cell_type": "code",
      "metadata": {
        "colab": {
          "base_uri": "https://localhost:8080/"
        },
        "id": "BTjfIPsANJsC",
        "outputId": "bd856e48-b310-4c74-b54a-98fe44064725"
      },
      "source": [
        "query_20=spark.sql(\"SELECT MAX(isolamento_domiciliare) AS top_5_regions_for_most_home_isolation_of_all_time, denominazione_regione AS region FROM base GROUP BY denominazione_regione ORDER BY MAX(isolamento_domiciliare) DESC LIMIT 5\")\n",
        "query_20.show()"
      ],
      "execution_count": null,
      "outputs": [
        {
          "output_type": "stream",
          "text": [
            "+-------------------------------------------------+---------+\n",
            "|top_5_regions_for_most_home_isolation_of_all_time|   region|\n",
            "+-------------------------------------------------+---------+\n",
            "|                                           155066|Lombardia|\n",
            "|                                           102438| Campania|\n",
            "|                                           101041|   Veneto|\n",
            "|                                            90735|    Lazio|\n",
            "|                                            73011| Piemonte|\n",
            "+-------------------------------------------------+---------+\n",
            "\n"
          ],
          "name": "stdout"
        }
      ]
    },
    {
      "cell_type": "markdown",
      "metadata": {
        "id": "FCQBWPrEjoJH"
      },
      "source": [
        "********************************************************************************\n",
        "Query 21: show top 5 regions for less people in home isolation in the last day \n",
        "recorded\n",
        "SELECT \n",
        "\n",
        "MIN(isolamento_domiciliare) AS top_5_regions_for_less_home_isolation_in_the_last_day, --get min value of isolamento_domiciliare alias top_5_regions_for_less_home_isolation_in_the_last_day\n",
        "\n",
        "denominazione_regione AS region --denominazione_regione alias region\n",
        "\n",
        "FROM (SELECT * FROM base ORDER BY data DESC LIMIT 21) --from rows with the last date recorded\n",
        "\n",
        "GROUP BY denominazione_regione --group each region name\n",
        "\n",
        "ORDER BY MIN(isolamento_domiciliare) ASC --order from the smallest to the biggest value\n",
        "\n",
        "LIMIT 5 --limit to 5 to get only the first 5 results\n"
      ]
    },
    {
      "cell_type": "code",
      "metadata": {
        "colab": {
          "base_uri": "https://localhost:8080/"
        },
        "id": "vbGrjh04NJm1",
        "outputId": "de13f972-ed64-4984-af03-4b2a0877541e"
      },
      "source": [
        "query_21=spark.sql(\"SELECT MIN(isolamento_domiciliare) AS top_5_regions_for_less_home_isolation_in_the_last_day, denominazione_regione AS region FROM (SELECT * FROM base ORDER BY data DESC LIMIT 21) GROUP BY denominazione_regione ORDER BY MIN(isolamento_domiciliare) ASC LIMIT 5\")\n",
        "query_21.show()"
      ],
      "execution_count": null,
      "outputs": [
        {
          "output_type": "stream",
          "text": [
            "+-----------------------------------------------------+-------------+\n",
            "|top_5_regions_for_less_home_isolation_in_the_last_day|       region|\n",
            "+-----------------------------------------------------+-------------+\n",
            "|                                                   19|Valle d'Aosta|\n",
            "|                                                   49|  P.A. Trento|\n",
            "|                                                   54|       Molise|\n",
            "|                                                  131| P.A. Bolzano|\n",
            "|                                                  168|      Liguria|\n",
            "+-----------------------------------------------------+-------------+\n",
            "\n"
          ],
          "name": "stdout"
        }
      ]
    },
    {
      "cell_type": "markdown",
      "metadata": {
        "id": "lzuy60JYjq-u"
      },
      "source": [
        "********************************************************************************\n",
        "Query 22: show average number of people in home isolation daily for each region\n",
        "\n",
        "SELECT \n",
        "\n",
        "AVG(isolamento_domiciliare) AS avg_home_isolation_daily, --get average value of isolamento_domiciliare alias avg_home_isolation_daily\n",
        "\n",
        "denominazione_regione AS region --denominazione_regione alias region\n",
        "\n",
        "FROM base --from dpc_covid19_ita_regioni\n",
        "\n",
        "GROUP BY denominazione_regione --group each region name\n",
        "\n",
        "ORDER BY AVG(isolamento_domiciliare) DESC --order from the biggest to the smallest value\n"
      ]
    },
    {
      "cell_type": "code",
      "metadata": {
        "colab": {
          "base_uri": "https://localhost:8080/"
        },
        "id": "bfygksW8NJjy",
        "outputId": "5a70d62b-959e-4acb-aeb5-6de92750fff9"
      },
      "source": [
        "query_22=spark.sql(\"SELECT AVG(isolamento_domiciliare) AS avg_home_isolation_daily, denominazione_regione AS region FROM base GROUP BY denominazione_regione ORDER BY AVG(isolamento_domiciliare) DESC\")\n",
        "query_22.show(21)"
      ],
      "execution_count": null,
      "outputs": [
        {
          "output_type": "stream",
          "text": [
            "+------------------------+--------------------+\n",
            "|avg_home_isolation_daily|              region|\n",
            "+------------------------+--------------------+\n",
            "|       37699.69565217391|            Campania|\n",
            "|       37060.92490118577|           Lombardia|\n",
            "|       24552.12648221344|               Lazio|\n",
            "|       23227.31818181818|      Emilia-Romagna|\n",
            "|      20904.098814229248|              Veneto|\n",
            "|      18647.203557312252|              Puglia|\n",
            "|       13400.05138339921|            Piemonte|\n",
            "|      12721.478260869566|             Sicilia|\n",
            "|      10142.707509881422|             Toscana|\n",
            "|       6843.333992094862|            Sardegna|\n",
            "|       5001.559288537549|             Abruzzo|\n",
            "|       4881.875494071146|Friuli Venezia Gi...|\n",
            "|       4552.646245059289|              Marche|\n",
            "|       4539.940711462451|            Calabria|\n",
            "|      3159.2747035573125|             Liguria|\n",
            "|       2832.620553359684|        P.A. Bolzano|\n",
            "|      2460.2648221343875|              Umbria|\n",
            "|       2288.498023715415|          Basilicata|\n",
            "|      1096.0652173913043|         P.A. Trento|\n",
            "|       613.8498023715415|              Molise|\n",
            "|      353.77667984189725|       Valle d'Aosta|\n",
            "+------------------------+--------------------+\n",
            "\n"
          ],
          "name": "stdout"
        }
      ]
    },
    {
      "cell_type": "markdown",
      "metadata": {
        "id": "u4S5sdtnjyRo"
      },
      "source": [
        "********************************************************************************\n",
        "Query 23: show top 5 regions for total cases and number of first doses, second doses and total doses of vaccine done\n",
        "\n",
        "--td total doses\n",
        "\n",
        "--lr last record\n",
        "\n",
        "--sd sum doses\n",
        "\n",
        "--fsd first second doses\n",
        "\n",
        "\n",
        "SELECT \n",
        "\n",
        "td.region, --region name from td\n",
        "\n",
        "td.total_cases, --total cases from td\n",
        "\n",
        "fsd.first_dose, --first dose from fsd\n",
        "\n",
        "fsd.second_dose, --second dose from fsd\n",
        "\n",
        "td.total_doses --total doses from td\n",
        "\n",
        "FROM \n",
        "\n",
        "\t(SELECT \n",
        "\n",
        "\tbase.denominazione_regione, --denominazione_regione from dpc_covid19_ita_regioni\n",
        "\n",
        "\tSUM(base2.prima_dose) AS first_dose, --sum prima_dose from somministrazioni_vaccini_latest alias first_dose\n",
        "\n",
        "\tSUM(base2.seconda_dose) AS second_dose --sum seconda_dose from somministrazioni_vaccini_latest alias second_dose\n",
        "\n",
        "\tFROM base --from dpc_covid19_ita_regioni\n",
        "\n",
        "\tJOIN base2 --inner join somministrazioni_vaccini_latest\n",
        "\n",
        "\tON base.data=base2.data_somministrazione --matching based on dates\n",
        "\n",
        "\tAND base.codice_regione=base2.codice_regione_ISTAT --and matching based on region codes\n",
        "\n",
        "\tGROUP BY base.denominazione_regione) AS fsd --group each region name, alias fsd\n",
        "\n",
        "JOIN --inner join\n",
        "\n",
        "\t(SELECT \n",
        "\n",
        "\tlr.denominazione_regione AS region, --denominazione_regione from lr alias region\n",
        "\n",
        "\tlr.totale_casi AS total_cases, --totale_casi from lr alias total_cases\n",
        "\n",
        "\tsd.dosi AS total_doses --dosi from sd alias total_doses\n",
        "\n",
        "\tFROM (SELECT * FROM base ORDER BY data DESC LIMIT 21) AS lr --from rows with the last date recorded, alias lr\n",
        "\n",
        "\tJOIN --inner join\n",
        "\n",
        "\t\t(SELECT \n",
        "\n",
        "\t\tbase.denominazione_regione, --denominazione_regione from dpc_covid19_ita_regioni\n",
        "\n",
        "\t\tSUM(base2.prima_dose)+SUM(base2.seconda_dose) AS dosi --sum sums of prima_dose and seconda_dose alias dosi\n",
        "\n",
        "\t\tFROM base --from dpc_covid19_ita_regioni\n",
        "\n",
        "\t\tJOIN base2 --inner join somministrazioni_vaccini_latest\n",
        "\n",
        "\t\tON base.data=base2.data_somministrazione --matching based on dates\n",
        "\n",
        "\t\tAND base.codice_regione=base2.codice_regione_ISTAT --and matching based on region codes\n",
        "\n",
        "\t\tGROUP BY base.denominazione_regione) AS sd --group each region name, alias sd\n",
        "\n",
        "\tON lr.denominazione_regione=sd.denominazione_regione --matching based on region names\n",
        "\n",
        "\tORDER BY lr.totale_casi DESC --order from biggest to smallest value\n",
        "\n",
        "\tLIMIT 5) AS td --limit to 5 to get only the first 5 results, alias td\n",
        "\n",
        "ON td.region=fsd.denominazione_regione --matching based on region names\n",
        "\n",
        "ORDER BY td.total_cases DESC --order from biggest to smallest value\n"
      ]
    },
    {
      "cell_type": "code",
      "metadata": {
        "colab": {
          "base_uri": "https://localhost:8080/"
        },
        "id": "MipHPGyz9Jv0",
        "outputId": "a3c97836-b759-4966-dc68-3490d4f1edaf"
      },
      "source": [
        "query_23=spark.sql(\"SELECT td.region, td.total_cases, fsd.first_dose, fsd.second_dose, td.total_doses FROM (SELECT base.denominazione_regione, SUM(base2.prima_dose) AS first_dose, SUM(base2.seconda_dose) AS second_dose FROM base JOIN base2 ON base.data=base2.data_somministrazione AND base.codice_regione=base2.codice_regione_ISTAT GROUP BY base.denominazione_regione) AS fsd JOIN (SELECT lr.denominazione_regione AS region, lr.totale_casi AS total_cases, sd.dosi AS total_doses FROM (SELECT * FROM base ORDER BY data DESC LIMIT 21) AS lr JOIN (SELECT base.denominazione_regione, SUM(base2.prima_dose)+SUM(base2.seconda_dose) AS dosi FROM base JOIN base2 ON base.data=base2.data_somministrazione AND base.codice_regione=base2.codice_regione_ISTAT GROUP BY base.denominazione_regione) AS sd ON lr.denominazione_regione=sd.denominazione_regione ORDER BY lr.totale_casi DESC LIMIT 5) AS td ON td.region=fsd.denominazione_regione ORDER BY td.total_cases DESC\")\n",
        "query_23.show()"
      ],
      "execution_count": null,
      "outputs": [
        {
          "output_type": "stream",
          "text": [
            "+--------------+-----------+----------+-----------+-----------+\n",
            "|        region|total_cases|first_dose|second_dose|total_doses|\n",
            "+--------------+-----------+----------+-----------+-----------+\n",
            "|     Lombardia|     843891|   6441249|    3832843|   10274092|\n",
            "|        Veneto|     426743|   2748421|    1879097|    4627518|\n",
            "|      Campania|     426122|   3357789|    2306355|    5664144|\n",
            "|Emilia-Romagna|     387789|   2573969|    1698010|    4271979|\n",
            "|      Piemonte|     363360|   2529698|    1620581|    4150279|\n",
            "+--------------+-----------+----------+-----------+-----------+\n",
            "\n"
          ],
          "name": "stdout"
        }
      ]
    },
    {
      "cell_type": "markdown",
      "metadata": {
        "id": "O7ardzkHkgBL"
      },
      "source": [
        "********************************************************************************\n",
        "Query 24: show top 5 regions for total healed and number of first doses, second doses and total doses of vaccine done\n",
        "\n",
        "--td total doses\n",
        "\n",
        "--lr last record\n",
        "\n",
        "--sd sum doses\n",
        "\n",
        "--fsd first second doses\n",
        "\n",
        "\n",
        "SELECT \n",
        "\n",
        "td.region, --region name from td\n",
        "\n",
        "td.total_healed, --total healed from td\n",
        "\n",
        "fsd.first_dose, --first dose from fsd\n",
        "\n",
        "fsd.second_dose, --second dose from fsd\n",
        "\n",
        "td.total_doses --total doses from td\n",
        "\n",
        "FROM \n",
        "\n",
        "\t(SELECT \n",
        "\n",
        "\tbase.denominazione_regione, --denominazione_regione from dpc_covid19_ita_regioni\n",
        "\n",
        "\tSUM(base2.prima_dose) AS first_dose, --sum prima_dose from somministrazioni_vaccini_latest alias first_dose\n",
        "\n",
        "\tSUM(base2.seconda_dose) AS second_dose --sum seconda_dose from somministrazioni_vaccini_latest alias second_dose\n",
        "\n",
        "\tFROM base --from dpc_covid19_ita_regioni\n",
        "\n",
        "\tJOIN base2 --inner join somministrazioni_vaccini_latest\n",
        "\n",
        "\tON base.data=base2.data_somministrazione --matching based on dates\n",
        "\n",
        "\tAND base.codice_regione=base2.codice_regione_ISTAT --and matching based on region codes\n",
        "\n",
        "\tGROUP BY base.denominazione_regione) AS fsd --group each region name, alias fsd\n",
        "\n",
        "JOIN --inner join\n",
        "\n",
        "\t(SELECT \n",
        "\n",
        "\tlr.denominazione_regione AS region, --denominazione_regione from lr alias region\n",
        "\n",
        "\tlr.dimessi_guariti AS total_healed, --dimessi_guariti from lr alias total_healed\n",
        "\n",
        "\tsd.dosi AS total_doses --dosi from sd alias total_doses\n",
        "\n",
        "\tFROM (SELECT * FROM base ORDER BY data DESC LIMIT 21) AS lr --from rows with the last date recorded, alias lr\n",
        "\n",
        "\tJOIN --inner join\n",
        "\n",
        "\t\t(SELECT \n",
        "\n",
        "\t\tbase.denominazione_regione, --denominazione_regione from dpc_covid19_ita_regioni\n",
        "\n",
        "\t\tSUM(base2.prima_dose)+SUM(base2.seconda_dose) AS dosi --sum sums of prima_dose and seconda_dose alias dosi\n",
        "\n",
        "\t\tFROM base --from dpc_covid19_ita_regioni\n",
        "\n",
        "\t\tJOIN base2 --inner join somministrazioni_vaccini_latest\n",
        "\n",
        "\t\tON base.data=base2.data_somministrazione --matching based on dates\n",
        "\n",
        "\t\tAND base.codice_regione=base2.codice_regione_ISTAT --and matching based on region codes\n",
        "\n",
        "\t\tGROUP BY base.denominazione_regione) AS sd --group each region name, alias sd\n",
        "\n",
        "\tON lr.denominazione_regione=sd.denominazione_regione --matching based on region names\n",
        "\n",
        "\tORDER BY lr.totale_casi DESC --order from biggest to smallest value\n",
        "\n",
        "\tLIMIT 5) AS td --limit to 5 to get only the first 5 results, alias td\n",
        "\n",
        "ON td.region=fsd.denominazione_regione --matching based on region names\n",
        "\n",
        "ORDER BY td.total_healed DESC --order from biggest to smallest value\n"
      ]
    },
    {
      "cell_type": "code",
      "metadata": {
        "colab": {
          "base_uri": "https://localhost:8080/"
        },
        "id": "Ugz481vhzANn",
        "outputId": "2cdc8f00-5409-430f-f1fb-219d41489fa5"
      },
      "source": [
        "query_24=spark.sql(\"SELECT td.region, td.total_healed, fsd.first_dose, fsd.second_dose, td.total_doses FROM (SELECT base.denominazione_regione, SUM(base2.prima_dose) AS first_dose, SUM(base2.seconda_dose) AS second_dose FROM base JOIN base2 ON base.data=base2.data_somministrazione AND base.codice_regione=base2.codice_regione_ISTAT GROUP BY base.denominazione_regione) AS fsd JOIN (SELECT lr.denominazione_regione AS region, lr.dimessi_guariti AS total_healed, sd.dosi AS total_doses FROM (SELECT * FROM base ORDER BY data DESC LIMIT 21) AS lr JOIN (SELECT base.denominazione_regione, SUM(base2.prima_dose)+SUM(base2.seconda_dose) AS dosi FROM base JOIN base2 ON base.data=base2.data_somministrazione AND base.codice_regione=base2.codice_regione_ISTAT GROUP BY base.denominazione_regione) AS sd ON lr.denominazione_regione=sd.denominazione_regione ORDER BY lr.totale_casi DESC LIMIT 5) AS td ON td.region=fsd.denominazione_regione ORDER BY td.total_healed DESC\")\n",
        "query_24.show()"
      ],
      "execution_count": null,
      "outputs": [
        {
          "output_type": "stream",
          "text": [
            "+--------------+------------+----------+-----------+-----------+\n",
            "|        region|total_healed|first_dose|second_dose|total_doses|\n",
            "+--------------+------------+----------+-----------+-----------+\n",
            "|     Lombardia|      802249|   6441249|    3832843|   10274092|\n",
            "|      Campania|      411799|   3357789|    2306355|    5664144|\n",
            "|        Veneto|      409845|   2748421|    1879097|    4627518|\n",
            "|Emilia-Romagna|      372408|   2573969|    1698010|    4271979|\n",
            "|      Piemonte|      350885|   2529698|    1620581|    4150279|\n",
            "+--------------+------------+----------+-----------+-----------+\n",
            "\n"
          ],
          "name": "stdout"
        }
      ]
    },
    {
      "cell_type": "markdown",
      "metadata": {
        "id": "-nOe8j5Uldik"
      },
      "source": [
        "********************************************************************************\n",
        "Query 25: show top 5 regions for total deaths and number of first doses, second doses and total doses of vaccine done\n",
        "\n",
        "SELECT \n",
        "\n",
        "td.region, --region name from td\n",
        "\n",
        "td.total_deaths, --total deaths from td\n",
        "\n",
        "fsd.first_dose, --first dose from fsd\n",
        "\n",
        "fsd.second_dose, --second dose from fsd\n",
        "\n",
        "td.total_doses --total doses from td\n",
        "\n",
        "FROM \n",
        "\n",
        "\t(SELECT \n",
        "\n",
        "\tbase.denominazione_regione, --denominazione_regione from dpc_covid19_ita_regioni\n",
        "\n",
        "\tSUM(base2.prima_dose) AS first_dose, --sum prima_dose from somministrazioni_vaccini_latest alias first_dose\n",
        "\n",
        "\tSUM(base2.seconda_dose) AS second_dose --sum seconda_dose from somministrazioni_vaccini_latest alias second_dose\n",
        "\n",
        "\tFROM base --from dpc_covid19_ita_regioni\n",
        "\n",
        "\tJOIN base2 --inner join somministrazioni_vaccini_latest\n",
        "\n",
        "\tON base.data=base2.data_somministrazione --matching based on dates\n",
        "\n",
        "\tAND base.codice_regione=base2.codice_regione_ISTAT --and matching based on region codes\n",
        "\n",
        "\tGROUP BY base.denominazione_regione) AS fsd --group each region name, alias fsd\n",
        "\n",
        "JOIN --inner join\n",
        "\n",
        "\t(SELECT \n",
        "\n",
        "\tlr.denominazione_regione AS region, --denominazione_regione from lr alias region\n",
        "\n",
        "\tlr.deceduti AS total_deaths, --deceduti from lr alias total_deaths\n",
        "\n",
        "\tsd.dosi AS total_doses --dosi from sd alias total_doses\n",
        "\n",
        "\tFROM (SELECT * FROM base ORDER BY data DESC LIMIT 21) AS lr --from rows with the last date recorded, alias lr\n",
        "\n",
        "\tJOIN --inner join\n",
        "\n",
        "\t\t(SELECT \n",
        "\n",
        "\t\tbase.denominazione_regione, --denominazione_regione from dpc_covid19_ita_regioni\n",
        "\n",
        "\t\tSUM(base2.prima_dose)+SUM(base2.seconda_dose) AS dosi --sum sums of prima_dose and seconda_dose alias dosi\n",
        "\n",
        "\t\tFROM base --from dpc_covid19_ita_regioni\n",
        "\n",
        "\t\tJOIN base2 --inner join somministrazioni_vaccini_latest\n",
        "\n",
        "\t\tON base.data=base2.data_somministrazione --matching based on dates\n",
        "\n",
        "\t\tAND base.codice_regione=base2.codice_regione_ISTAT --and matching based on region codes\n",
        "\n",
        "\t\tGROUP BY base.denominazione_regione) AS sd --group each region name, alias sd\n",
        "\n",
        "\tON lr.denominazione_regione=sd.denominazione_regione --matching based on region names\n",
        "\n",
        "\tORDER BY lr.totale_casi DESC --order from biggest to smallest value\n",
        "\n",
        "\tLIMIT 5) AS td --limit to 5 to get only the first 5 results, alias td\n",
        "\n",
        "ON td.region=fsd.denominazione_regione --matching based on region names\n",
        "\n",
        "ORDER BY td.total_deaths DESC --order from biggest to smallest value\n"
      ]
    },
    {
      "cell_type": "code",
      "metadata": {
        "colab": {
          "base_uri": "https://localhost:8080/"
        },
        "id": "-dct33W80kLO",
        "outputId": "d0d79abb-c92f-4a12-9f9a-5ed1232abffa"
      },
      "source": [
        "query_25=spark.sql(\"SELECT td.region, td.total_deaths, fsd.first_dose, fsd.second_dose, td.total_doses FROM (SELECT base.denominazione_regione, SUM(base2.prima_dose) AS first_dose, SUM(base2.seconda_dose) AS second_dose FROM base JOIN base2 ON base.data=base2.data_somministrazione AND base.codice_regione=base2.codice_regione_ISTAT GROUP BY base.denominazione_regione) AS fsd JOIN (SELECT lr.denominazione_regione AS region, lr.deceduti AS total_deaths, sd.dosi AS total_doses FROM (SELECT * FROM base ORDER BY data DESC LIMIT 21) AS lr JOIN (SELECT base.denominazione_regione, SUM(base2.prima_dose)+SUM(base2.seconda_dose) AS dosi FROM base JOIN base2 ON base.data=base2.data_somministrazione AND base.codice_regione=base2.codice_regione_ISTAT GROUP BY base.denominazione_regione) AS sd ON lr.denominazione_regione=sd.denominazione_regione ORDER BY lr.totale_casi DESC LIMIT 5) AS td ON td.region=fsd.denominazione_regione ORDER BY td.total_deaths DESC\")\n",
        "query_25.show()"
      ],
      "execution_count": null,
      "outputs": [
        {
          "output_type": "stream",
          "text": [
            "+--------------+------------+----------+-----------+-----------+\n",
            "|        region|total_deaths|first_dose|second_dose|total_doses|\n",
            "+--------------+------------+----------+-----------+-----------+\n",
            "|     Lombardia|       33802|   6441249|    3832843|   10274092|\n",
            "|Emilia-Romagna|       13268|   2573969|    1698010|    4271979|\n",
            "|      Piemonte|       11698|   2529698|    1620581|    4150279|\n",
            "|        Veneto|       11623|   2748421|    1879097|    4627518|\n",
            "|      Campania|        7551|   3357789|    2306355|    5664144|\n",
            "+--------------+------------+----------+-----------+-----------+\n",
            "\n"
          ],
          "name": "stdout"
        }
      ]
    },
    {
      "cell_type": "markdown",
      "metadata": {
        "id": "90fVgrn2ln8A"
      },
      "source": [
        "********************************************************************************\n",
        "Query 26: show for each vaccine the number of first doses, second doses and total doses done\n",
        "\n",
        "SELECT \n",
        "\n",
        "fornitore AS vaccine, --fornitore as vaccine\n",
        "\n",
        "SUM(prima_dose) AS first_dose, --sum prima_dose alias first_dose\n",
        "\n",
        "SUM(seconda_dose) AS second_dose, --sum seconda_dose alias second_dose\n",
        "\n",
        "SUM(prima_dose)+SUM(seconda_dose) AS total_doses --sum sums of prima_dose and seconda_dose alias total_doses\n",
        "\n",
        "FROM base2 --from somministrazioni_vaccini_latest\n",
        "\n",
        "GROUP BY fornitore --group each vaccine name\n"
      ]
    },
    {
      "cell_type": "code",
      "metadata": {
        "colab": {
          "base_uri": "https://localhost:8080/"
        },
        "id": "pMP-s1bc2H2o",
        "outputId": "f7d38b28-28ac-4dcf-968e-1e188fbe8c37"
      },
      "source": [
        "query_26=spark.sql(\"SELECT fornitore AS vaccine, SUM(prima_dose) AS first_dose, SUM(seconda_dose) AS second_dose, SUM(prima_dose)+SUM(seconda_dose) AS total_doses FROM base2 GROUP BY fornitore\")\n",
        "query_26.show()"
      ],
      "execution_count": null,
      "outputs": [
        {
          "output_type": "stream",
          "text": [
            "+--------------------+----------+-----------+-----------+\n",
            "|             vaccine|first_dose|second_dose|total_doses|\n",
            "+--------------------+----------+-----------+-----------+\n",
            "|Vaxzevria (AstraZ...|   6339847|    3605565|    9945412|\n",
            "|             Janssen|   1276592|          0|    1276592|\n",
            "|             Moderna|   3267167|    2362126|    5629293|\n",
            "|     Pfizer/BioNTech|  24381186|   16779533|   41160719|\n",
            "+--------------------+----------+-----------+-----------+\n",
            "\n"
          ],
          "name": "stdout"
        }
      ]
    },
    {
      "cell_type": "markdown",
      "metadata": {
        "id": "9Ita0SDhlq20"
      },
      "source": [
        "********************************************************************************\n",
        "Query 27: show for each region, for each vaccine the number of first doses, second doses and total doses done\n",
        "\n",
        "SELECT \n",
        "\n",
        "nome_area AS region, --nome_area alias region\n",
        "\n",
        "codice_regione_ISTAT AS reg_cod, --codice_regione_ISTAT alias reg_cod\n",
        "\n",
        "fornitore AS vaccine, --fornitore as vaccine\n",
        "\n",
        "SUM(prima_dose) AS first_dose, --sum prima_dose alias first_dose\n",
        "\n",
        "SUM(seconda_dose) AS second_dose, --sum seconda_dose alias second_dose\n",
        "\n",
        "SUM(prima_dose)+SUM(seconda_dose) AS total_doses --sum sums of prima_dose and seconda_dose alias total_doses\n",
        "\n",
        "FROM base2 --from somministrazioni_vaccini_latest\n",
        "\n",
        "GROUP BY nome_area, codice_regione_ISTAT, fornitore --group each region name, region code and vaccine name\n",
        "\n",
        "ORDER BY codice_regione_ISTAT,fornitore --order from the smallest to the biggest value by default codice_regione_ISTAT then fornitore\n"
      ]
    },
    {
      "cell_type": "code",
      "metadata": {
        "colab": {
          "base_uri": "https://localhost:8080/"
        },
        "id": "ygu9DpZp4JuV",
        "outputId": "88b3407f-53d3-4493-c16d-21a606e6ea00"
      },
      "source": [
        "query_27=spark.sql(\"SELECT area AS region, codice_regione_ISTAT AS reg_cod, fornitore AS vaccine, SUM(prima_dose) AS first_dose, SUM(seconda_dose) AS second_dose, SUM(prima_dose)+SUM(seconda_dose) AS total_doses FROM base2 GROUP BY area, codice_regione_ISTAT, fornitore ORDER BY codice_regione_ISTAT,fornitore\")\n",
        "query_27.show(84)"
      ],
      "execution_count": null,
      "outputs": [
        {
          "output_type": "stream",
          "text": [
            "+------+-------+--------------------+----------+-----------+-----------+\n",
            "|region|reg_cod|             vaccine|first_dose|second_dose|total_doses|\n",
            "+------+-------+--------------------+----------+-----------+-----------+\n",
            "|   PIE|      1|             Janssen|     63923|          0|      63923|\n",
            "|   PIE|      1|             Moderna|    232157|     158403|     390560|\n",
            "|   PIE|      1|     Pfizer/BioNTech|   1825357|    1199233|    3024590|\n",
            "|   PIE|      1|Vaxzevria (AstraZ...|    408261|     262945|     671206|\n",
            "|   VDA|      2|             Janssen|       968|          0|        968|\n",
            "|   VDA|      2|             Moderna|      4876|       4518|       9394|\n",
            "|   VDA|      2|     Pfizer/BioNTech|     49633|      36124|      85757|\n",
            "|   VDA|      2|Vaxzevria (AstraZ...|     13137|       6040|      19177|\n",
            "|   LOM|      3|             Janssen|    266389|          0|     266389|\n",
            "|   LOM|      3|             Moderna|    586415|     414466|    1000881|\n",
            "|   LOM|      3|     Pfizer/BioNTech|   4383737|    2787737|    7171474|\n",
            "|   LOM|      3|Vaxzevria (AstraZ...|   1204708|     630640|    1835348|\n",
            "|   VEN|      5|             Janssen|     61770|          0|      61770|\n",
            "|   VEN|      5|             Moderna|    249181|     186792|     435973|\n",
            "|   VEN|      5|     Pfizer/BioNTech|   1955730|    1396702|    3352432|\n",
            "|   VEN|      5|Vaxzevria (AstraZ...|    481740|     295603|     777343|\n",
            "|   FVG|      6|             Janssen|     22754|          0|      22754|\n",
            "|   FVG|      6|             Moderna|     60193|      53157|     113350|\n",
            "|   FVG|      6|     Pfizer/BioNTech|    461176|     372770|     833946|\n",
            "|   FVG|      6|Vaxzevria (AstraZ...|    138504|      68422|     206926|\n",
            "|   LIG|      7|             Janssen|     31733|          0|      31733|\n",
            "|   LIG|      7|             Moderna|     84078|      57507|     141585|\n",
            "|   LIG|      7|     Pfizer/BioNTech|    624425|     427355|    1051780|\n",
            "|   LIG|      7|Vaxzevria (AstraZ...|    177413|      71146|     248559|\n",
            "|   EMR|      8|             Janssen|     87516|          0|      87516|\n",
            "|   EMR|      8|             Moderna|    274281|     158062|     432343|\n",
            "|   EMR|      8|     Pfizer/BioNTech|   1764325|    1275474|    3039799|\n",
            "|   EMR|      8|Vaxzevria (AstraZ...|    447847|     264474|     712321|\n",
            "|   TOS|      9|             Janssen|     64449|          0|      64449|\n",
            "|   TOS|      9|             Moderna|    215075|     132050|     347125|\n",
            "|   TOS|      9|     Pfizer/BioNTech|   1507178|     897324|    2404502|\n",
            "|   TOS|      9|Vaxzevria (AstraZ...|    363885|     228918|     592803|\n",
            "|   UMB|     10|             Janssen|     16870|          0|      16870|\n",
            "|   UMB|     10|             Moderna|     48261|      29548|      77809|\n",
            "|   UMB|     10|     Pfizer/BioNTech|    359065|     225368|     584433|\n",
            "|   UMB|     10|Vaxzevria (AstraZ...|     98488|      67041|     165529|\n",
            "|   MAR|     11|             Janssen|     23130|          0|      23130|\n",
            "|   MAR|     11|             Moderna|     84105|      60810|     144915|\n",
            "|   MAR|     11|     Pfizer/BioNTech|    618724|     416067|    1034791|\n",
            "|   MAR|     11|Vaxzevria (AstraZ...|    165812|     101889|     267701|\n",
            "|   LAZ|     12|             Janssen|    211491|          0|     211491|\n",
            "|   LAZ|     12|             Moderna|    307674|     212065|     519739|\n",
            "|   LAZ|     12|     Pfizer/BioNTech|   2355990|    1753814|    4109804|\n",
            "|   LAZ|     12|Vaxzevria (AstraZ...|    675312|     402777|    1078089|\n",
            "|   ABR|     13|             Janssen|     22905|          0|      22905|\n",
            "|   ABR|     13|             Moderna|     70967|      48943|     119910|\n",
            "|   ABR|     13|     Pfizer/BioNTech|    527633|     369456|     897089|\n",
            "|   ABR|     13|Vaxzevria (AstraZ...|    164905|      64663|     229568|\n",
            "|   MOL|     14|             Janssen|      5211|          0|       5211|\n",
            "|   MOL|     14|             Moderna|     17188|      12807|      29995|\n",
            "|   MOL|     14|     Pfizer/BioNTech|    120535|      88041|     208576|\n",
            "|   MOL|     14|Vaxzevria (AstraZ...|     33737|      24208|      57945|\n",
            "|   CAM|     15|             Janssen|    107056|          0|     107056|\n",
            "|   CAM|     15|             Moderna|    329459|     275342|     604801|\n",
            "|   CAM|     15|     Pfizer/BioNTech|   2268169|    1682963|    3951132|\n",
            "|   CAM|     15|Vaxzevria (AstraZ...|    653105|     348050|    1001155|\n",
            "|   PUG|     16|             Janssen|    102273|          0|     102273|\n",
            "|   PUG|     16|             Moderna|    211190|     151302|     362492|\n",
            "|   PUG|     16|     Pfizer/BioNTech|   1663932|    1138350|    2802282|\n",
            "|   PUG|     16|Vaxzevria (AstraZ...|    451663|     281771|     733434|\n",
            "|   BAS|     17|             Janssen|      9524|          0|       9524|\n",
            "|   BAS|     17|             Moderna|     25819|      17755|      43574|\n",
            "|   BAS|     17|     Pfizer/BioNTech|    223415|     153163|     376578|\n",
            "|   BAS|     17|Vaxzevria (AstraZ...|     59368|      21293|      80661|\n",
            "|   CAL|     18|             Janssen|     49987|          0|      49987|\n",
            "|   CAL|     18|             Moderna|     87039|      71063|     158102|\n",
            "|   CAL|     18|     Pfizer/BioNTech|    716499|     490273|    1206772|\n",
            "|   CAL|     18|Vaxzevria (AstraZ...|    197659|      68964|     266623|\n",
            "|   SIC|     19|             Janssen|    102397|          0|     102397|\n",
            "|   SIC|     19|             Moderna|    240447|     201090|     441537|\n",
            "|   SIC|     19|     Pfizer/BioNTech|   1909049|    1318706|    3227755|\n",
            "|   SIC|     19|Vaxzevria (AstraZ...|    317837|     219074|     536911|\n",
            "|   SAR|     20|             Janssen|     16341|          0|      16341|\n",
            "|   SAR|     20|             Moderna|     83330|      75812|     159142|\n",
            "|   SAR|     20|     Pfizer/BioNTech|    644130|     446772|    1090902|\n",
            "|   SAR|     20|Vaxzevria (AstraZ...|    190523|     107423|     297946|\n",
            "|   PAB|     21|             Janssen|      6413|          0|       6413|\n",
            "|   PAB|     21|             Moderna|     28646|      23004|      51650|\n",
            "|   PAB|     21|     Pfizer/BioNTech|    181270|     149004|     330274|\n",
            "|   PAB|     21|Vaxzevria (AstraZ...|     60171|      42358|     102529|\n",
            "|   PAT|     22|             Janssen|      3492|          0|       3492|\n",
            "|   PAT|     22|             Moderna|     26786|      17630|      44416|\n",
            "|   PAT|     22|     Pfizer/BioNTech|    221214|     154837|     376051|\n",
            "|   PAT|     22|Vaxzevria (AstraZ...|     35772|      27866|      63638|\n",
            "+------+-------+--------------------+----------+-----------+-----------+\n",
            "\n"
          ],
          "name": "stdout"
        }
      ]
    },
    {
      "cell_type": "markdown",
      "metadata": {
        "id": "rx8urmstluma"
      },
      "source": [
        "********************************************************************************\n",
        "Query 28: show the number of doses administered to males, females and the total number\n",
        "\n",
        "SELECT \n",
        "\n",
        "SUM(sesso_maschile) AS males, --sum sesso_maschile alias males\n",
        "\n",
        "SUM(sesso_femminile) AS females, --sum sesso_femminile alias females\n",
        "\n",
        "SUM(sesso_maschile)+SUM(sesso_femminile) AS combined --sum sums of sesso_maschile and sesso_femminile alias combined\n",
        "\n",
        "FROM base2 -- from somministrazioni_vaccini_latest\n"
      ]
    },
    {
      "cell_type": "code",
      "metadata": {
        "colab": {
          "base_uri": "https://localhost:8080/"
        },
        "id": "sr63QFMd91sd",
        "outputId": "9e4e0bab-bfb3-4baa-d3ba-6b564f3bd0d8"
      },
      "source": [
        "query_28=spark.sql(\"SELECT SUM(sesso_maschile) AS males, SUM(sesso_femminile) AS females, SUM(sesso_maschile)+SUM(sesso_femminile) AS combined FROM base2\")\n",
        "query_28.show()"
      ],
      "execution_count": null,
      "outputs": [
        {
          "output_type": "stream",
          "text": [
            "+--------+--------+--------+\n",
            "|   males| females|combined|\n",
            "+--------+--------+--------+\n",
            "|27427183|31362716|58789899|\n",
            "+--------+--------+--------+\n",
            "\n"
          ],
          "name": "stdout"
        }
      ]
    },
    {
      "cell_type": "markdown",
      "metadata": {
        "id": "224rwJIulxQP"
      },
      "source": [
        "********************************************************************************\n",
        "Query 29: show for each region the number of doses administered to males, \n",
        "females and the total number\n",
        "\n",
        "SELECT \n",
        "\n",
        "nome_area AS region, --nome_area alias region\n",
        "\n",
        "SUM(sesso_maschile) AS total_doses_received_males, --sum sesso_maschile alias total_doses_received_males \n",
        "\n",
        "SUM(sesso_femminile) AS total_doses_received_females, --sum sesso_femminile alias total_doses_received_females\n",
        "\n",
        "SUM(sesso_maschile)+SUM(sesso_femminile) AS total_doses_received --sum of sums of sesso_maschile and sesso_femminile alias total_doses_received\n",
        "\n",
        "FROM base2 --from somministrazioni_vaccini_latest\n",
        "\n",
        "GROUP BY nome_area --group each region name\n",
        "\n",
        "ORDER BY total_doses_received DESC --order from the biggest to the smallest value\n"
      ]
    },
    {
      "cell_type": "code",
      "metadata": {
        "colab": {
          "base_uri": "https://localhost:8080/"
        },
        "id": "si8i3dTd768u",
        "outputId": "bf3bcb31-298f-4a08-8031-95ae0c7b613e"
      },
      "source": [
        "query_29=spark.sql(\"SELECT area AS region, SUM(sesso_maschile) AS total_doses_received_males, SUM(sesso_femminile) AS total_doses_received_females, SUM(sesso_maschile)+SUM(sesso_femminile) AS total_doses_received FROM base2 GROUP BY area ORDER BY total_doses_received DESC\")\n",
        "query_29.show(22)"
      ],
      "execution_count": null,
      "outputs": [
        {
          "output_type": "stream",
          "text": [
            "+------+--------------------------+----------------------------+--------------------+\n",
            "|region|total_doses_received_males|total_doses_received_females|total_doses_received|\n",
            "+------+--------------------------+----------------------------+--------------------+\n",
            "|   LOM|                   4875449|                     5564048|            10439497|\n",
            "|   LAZ|                   2767637|                     3216792|             5984429|\n",
            "|   CAM|                   2732054|                     3013501|             5745555|\n",
            "|   VEN|                   2225489|                     2517787|             4743276|\n",
            "|   SIC|                   2046789|                     2302374|             4349163|\n",
            "|   EMR|                   1991478|                     2328145|             4319623|\n",
            "|   PIE|                   1939871|                     2251379|             4191250|\n",
            "|   PUG|                   1885143|                     2171999|             4057142|\n",
            "|   TOS|                   1583177|                     1868803|             3451980|\n",
            "|   CAL|                    804701|                      884314|             1689015|\n",
            "|   SAR|                    734707|                      843738|             1578445|\n",
            "|   MAR|                    695867|                      798155|             1494022|\n",
            "|   LIG|                    682331|                      800026|             1482357|\n",
            "|   ABR|                    598942|                      688569|             1287511|\n",
            "|   FVG|                    559939|                      632718|             1192657|\n",
            "|   UMB|                    389545|                      461837|              851382|\n",
            "|   BAS|                    240875|                      273638|              514513|\n",
            "|   PAT|                    237235|                      267204|              504439|\n",
            "|   PAB|                    238122|                      253501|              491623|\n",
            "|   MOL|                    142136|                      162855|              304991|\n",
            "|   VDA|                     55696|                       61333|              117029|\n",
            "+------+--------------------------+----------------------------+--------------------+\n",
            "\n"
          ],
          "name": "stdout"
        }
      ]
    },
    {
      "cell_type": "markdown",
      "metadata": {
        "id": "Ci5hu_KIopp4"
      },
      "source": [
        "********************************************************************************\n",
        "Query 30: show for each age group the number of first doses, second doses and total doses done\n",
        "\n",
        "SELECT \n",
        "\n",
        "fascia_anagrafica AS age_group, --fascia_anagrafica alias age_group\n",
        "\n",
        "SUM(prima_dose) AS first_dose, --sum prima_dose alias first_dose\n",
        "\n",
        "SUM(seconda_dose) AS second_dose, --sum seconda_dose alias second_dose\n",
        "\n",
        "SUM(prima_dose)+SUM(seconda_dose) AS total_doses --sum sums of prima_dose and seconda_dose alias total_doses\n",
        "\n",
        "FROM base2 --from somministrazioni_vaccini_latest\n",
        "\n",
        "GROUP BY fascia_anagrafica --group each age group\n",
        "\n",
        "ORDER BY fascia_anagrafica --order from the smallest to the biggest value by default\n"
      ]
    },
    {
      "cell_type": "code",
      "metadata": {
        "colab": {
          "base_uri": "https://localhost:8080/"
        },
        "id": "gvSPZGIh9cui",
        "outputId": "269e37c4-f7fa-40c2-c56f-bb1a55e39475"
      },
      "source": [
        "query_30=spark.sql(\"SELECT fascia_anagrafica AS age_group, SUM(prima_dose) AS first_dose, SUM(seconda_dose) AS second_dose, SUM(prima_dose)+SUM(seconda_dose) AS total_doses FROM base2 GROUP BY fascia_anagrafica ORDER BY fascia_anagrafica\")\n",
        "query_30.show()"
      ],
      "execution_count": null,
      "outputs": [
        {
          "output_type": "stream",
          "text": [
            "+---------+----------+-----------+-----------+\n",
            "|age_group|first_dose|second_dose|total_doses|\n",
            "+---------+----------+-----------+-----------+\n",
            "|    12-19|   1151003|     274188|    1425191|\n",
            "|    20-29|   2998593|    1079569|    4078162|\n",
            "|    30-39|   3490333|    1437616|    4927949|\n",
            "|    40-49|   5378490|    2801931|    8180421|\n",
            "|    50-59|   6906355|    4869320|   11775675|\n",
            "|    60-69|   6024298|    4057641|   10081939|\n",
            "|    70-79|   5168175|    4238675|    9406850|\n",
            "|    80-89|   3369692|    3254089|    6623781|\n",
            "|      90+|    777853|     734195|    1512048|\n",
            "+---------+----------+-----------+-----------+\n",
            "\n"
          ],
          "name": "stdout"
        }
      ]
    },
    {
      "cell_type": "markdown",
      "metadata": {
        "id": "NUoo26Closab"
      },
      "source": [
        "********************************************************************************\n",
        "Query 31: show for each region, for each age group the number of first doses, second doses and total doses done\n",
        "\n",
        "SELECT \n",
        "\n",
        "nome_area AS region, --nome_area alias region\n",
        "\n",
        "fascia_anagrafica AS age_group, --fascia_anagrafica alias age_group\n",
        "\n",
        "SUM(prima_dose) AS first_dose, --sum prima_dose alias first_dose\n",
        "\n",
        "SUM(seconda_dose) AS second_dose, --sum seconda_dose alias second_dose\n",
        "\n",
        "SUM(prima_dose)+SUM(seconda_dose) AS total_doses --sum sums of prima_dose and seconda_dose alias total_doses\n",
        "\n",
        "FROM base2 --from somministrazioni_vaccini_latest\n",
        "\n",
        "GROUP BY nome_area, fascia_anagrafica --group each region name then each age group\n",
        "\n",
        "ORDER BY nome_area, fascia_anagrafica --order alphabetically region names then from the smallest to the biggest value the age groups\n"
      ]
    },
    {
      "cell_type": "code",
      "metadata": {
        "colab": {
          "base_uri": "https://localhost:8080/"
        },
        "id": "v0P9IONZAPbF",
        "outputId": "e85e128f-da0a-411a-c115-2c3650636928"
      },
      "source": [
        "query_31=spark.sql(\"SELECT area AS region, fascia_anagrafica AS age_group, SUM(prima_dose) AS first_dose, SUM(seconda_dose) AS second_dose, SUM(prima_dose)+SUM(seconda_dose) AS total_doses FROM base2 GROUP BY area, fascia_anagrafica ORDER BY area, fascia_anagrafica\")\n",
        "query_31.show(189)"
      ],
      "execution_count": null,
      "outputs": [
        {
          "output_type": "stream",
          "text": [
            "+------+---------+----------+-----------+-----------+\n",
            "|region|age_group|first_dose|second_dose|total_doses|\n",
            "+------+---------+----------+-----------+-----------+\n",
            "|   ABR|    12-19|     27406|       8052|      35458|\n",
            "|   ABR|    20-29|     68700|      23940|      92640|\n",
            "|   ABR|    30-39|     74252|      30558|     104810|\n",
            "|   ABR|    40-49|    117454|      62934|     180388|\n",
            "|   ABR|    50-59|    149407|      92631|     242038|\n",
            "|   ABR|    60-69|    138628|      90757|     229385|\n",
            "|   ABR|    70-79|    116577|      83242|     199819|\n",
            "|   ABR|    80-89|     75638|      73331|     148969|\n",
            "|   ABR|      90+|     18348|      17617|      35965|\n",
            "|   BAS|    12-19|      8684|       2061|      10745|\n",
            "|   BAS|    20-29|     22716|      11168|      33884|\n",
            "|   BAS|    30-39|     26034|      14883|      40917|\n",
            "|   BAS|    40-49|     48902|      23446|      72348|\n",
            "|   BAS|    50-59|     63362|      35293|      98655|\n",
            "|   BAS|    60-69|     61389|      34002|      95391|\n",
            "|   BAS|    70-79|     47095|      33261|      80356|\n",
            "|   BAS|    80-89|     32093|      30698|      62791|\n",
            "|   BAS|      90+|      7851|       7399|      15250|\n",
            "|   CAL|    12-19|     45345|      10383|      55728|\n",
            "|   CAL|    20-29|    101333|      33749|     135082|\n",
            "|   CAL|    30-39|    111382|      46290|     157672|\n",
            "|   CAL|    40-49|    153796|      78009|     231805|\n",
            "|   CAL|    50-59|    192432|     110302|     302734|\n",
            "|   CAL|    60-69|    189235|     129745|     318980|\n",
            "|   CAL|    70-79|    148936|     118923|     267859|\n",
            "|   CAL|    80-89|     89236|      84782|     174018|\n",
            "|   CAL|      90+|     19489|      18117|      37606|\n",
            "|   CAM|    12-19|    169146|      45622|     214768|\n",
            "|   CAM|    20-29|    383231|     174075|     557306|\n",
            "|   CAM|    30-39|    388226|     197060|     585286|\n",
            "|   CAM|    40-49|    533964|     396344|     930308|\n",
            "|   CAM|    50-59|    645629|     552404|    1198033|\n",
            "|   CAM|    60-69|    550744|     353053|     903797|\n",
            "|   CAM|    70-79|    420689|     336923|     757612|\n",
            "|   CAM|    80-89|    223243|     211897|     435140|\n",
            "|   CAM|      90+|     42917|      38977|      81894|\n",
            "|   EMR|    12-19|     85117|       9674|      94791|\n",
            "|   EMR|    20-29|    168351|      69821|     238172|\n",
            "|   EMR|    30-39|    210261|      93505|     303766|\n",
            "|   EMR|    40-49|    385421|     171585|     557006|\n",
            "|   EMR|    50-59|    519143|     387439|     906582|\n",
            "|   EMR|    60-69|    449868|     299626|     749494|\n",
            "|   EMR|    70-79|    399773|     320447|     720220|\n",
            "|   EMR|    80-89|    282467|     275733|     558200|\n",
            "|   EMR|      90+|     73568|      70180|     143748|\n",
            "|   FVG|    12-19|     16616|       4406|      21022|\n",
            "|   FVG|    20-29|     56464|      28969|      85433|\n",
            "|   FVG|    30-39|     58624|      33440|      92064|\n",
            "|   FVG|    40-49|     98249|      81028|     179277|\n",
            "|   FVG|    50-59|    129241|     116339|     245580|\n",
            "|   FVG|    60-69|    114173|      61261|     175434|\n",
            "|   FVG|    70-79|    112073|      74392|     186465|\n",
            "|   FVG|    80-89|     78188|      76353|     154541|\n",
            "|   FVG|      90+|     18999|      18161|      37160|\n",
            "|   LAZ|    12-19|    104311|      70850|     175161|\n",
            "|   LAZ|    20-29|    280756|      75147|     355903|\n",
            "|   LAZ|    30-39|    366590|     114820|     481410|\n",
            "|   LAZ|    40-49|    584555|     270420|     854975|\n",
            "|   LAZ|    50-59|    724019|     486914|    1210933|\n",
            "|   LAZ|    60-69|    604159|     514356|    1118515|\n",
            "|   LAZ|    70-79|    496041|     459686|     955727|\n",
            "|   LAZ|    80-89|    319260|     309287|     628547|\n",
            "|   LAZ|      90+|     70776|      67176|     137952|\n",
            "|   LIG|    12-19|     25109|       2432|      27541|\n",
            "|   LIG|    20-29|     71282|      20808|      92090|\n",
            "|   LIG|    30-39|     74637|      25842|     100479|\n",
            "|   LIG|    40-49|    113306|      45531|     158837|\n",
            "|   LIG|    50-59|    175283|     112813|     288096|\n",
            "|   LIG|    60-69|    158317|      81478|     239795|\n",
            "|   LIG|    70-79|    154687|     128199|     282886|\n",
            "|   LIG|    80-89|    115751|     111820|     227571|\n",
            "|   LIG|      90+|     29277|      27085|      56362|\n",
            "|   LOM|    12-19|    258559|      30348|     288907|\n",
            "|   LOM|    20-29|    619507|     198823|     818330|\n",
            "|   LOM|    30-39|    718543|     295516|    1014059|\n",
            "|   LOM|    40-49|   1015518|     478363|    1493881|\n",
            "|   LOM|    50-59|   1250056|     798502|    2048558|\n",
            "|   LOM|    60-69|    999495|     639663|    1639158|\n",
            "|   LOM|    70-79|    866609|     698320|    1564929|\n",
            "|   LOM|    80-89|    582935|     568600|    1151535|\n",
            "|   LOM|      90+|    130027|     124708|     254735|\n",
            "|   MAR|    12-19|     28763|       7466|      36229|\n",
            "|   MAR|    20-29|     75205|      24610|      99815|\n",
            "|   MAR|    30-39|     79181|      32199|     111380|\n",
            "|   MAR|    40-49|    129511|      70828|     200339|\n",
            "|   MAR|    50-59|    164114|     113758|     277872|\n",
            "|   MAR|    60-69|    154710|      99643|     254353|\n",
            "|   MAR|    70-79|    136888|     110891|     247779|\n",
            "|   MAR|    80-89|     98613|      95612|     194225|\n",
            "|   MAR|      90+|     24786|      23759|      48545|\n",
            "|   MOL|    12-19|      4830|        437|       5267|\n",
            "|   MOL|    20-29|     10755|       3504|      14259|\n",
            "|   MOL|    30-39|     14122|       5302|      19424|\n",
            "|   MOL|    40-49|     26931|      10517|      37448|\n",
            "|   MOL|    50-59|     35003|      29917|      64920|\n",
            "|   MOL|    60-69|     34054|      28821|      62875|\n",
            "|   MOL|    70-79|     27163|      23534|      50697|\n",
            "|   MOL|    80-89|     18734|      18229|      36963|\n",
            "|   MOL|      90+|      5079|       4795|       9874|\n",
            "|   PAB|    12-19|      7634|       2654|      10288|\n",
            "|   PAB|    20-29|     27244|      13786|      41030|\n",
            "|   PAB|    30-39|     29830|      16833|      46663|\n",
            "|   PAB|    40-49|     43052|      34289|      77341|\n",
            "|   PAB|    50-59|     56263|      48529|     104792|\n",
            "|   PAB|    60-69|     44864|      37468|      82332|\n",
            "|   PAB|    70-79|     37539|      33345|      70884|\n",
            "|   PAB|    80-89|     24474|      22544|      47018|\n",
            "|   PAB|      90+|      5600|       4918|      10518|\n",
            "|   PAT|    12-19|      6786|        520|       7306|\n",
            "|   PAT|    20-29|     25771|       7178|      32949|\n",
            "|   PAT|    30-39|     25560|       8535|      34095|\n",
            "|   PAT|    40-49|     40064|      13117|      53181|\n",
            "|   PAT|    50-59|     57217|      50500|     107717|\n",
            "|   PAT|    60-69|     51880|      44674|      96554|\n",
            "|   PAT|    70-79|     44328|      41421|      85749|\n",
            "|   PAT|    80-89|     27980|      27039|      55019|\n",
            "|   PAT|      90+|      7678|       7349|      15027|\n",
            "|   PIE|    12-19|     47427|       7062|      54489|\n",
            "|   PIE|    20-29|    205694|      66033|     271727|\n",
            "|   PIE|    30-39|    232955|      89362|     322317|\n",
            "|   PIE|    40-49|    367377|     152022|     519399|\n",
            "|   PIE|    50-59|    490443|     339485|     829928|\n",
            "|   PIE|    60-69|    436503|     296354|     732857|\n",
            "|   PIE|    70-79|    400815|     338032|     738847|\n",
            "|   PIE|    80-89|    283990|     272797|     556787|\n",
            "|   PIE|      90+|     64494|      59434|     123928|\n",
            "|   PUG|    12-19|     66440|      28560|      95000|\n",
            "|   PUG|    20-29|    180405|      66974|     247379|\n",
            "|   PUG|    30-39|    249350|      99020|     348370|\n",
            "|   PUG|    40-49|    395597|     198362|     593959|\n",
            "|   PUG|    50-59|    481027|     340257|     821284|\n",
            "|   PUG|    60-69|    431260|     292105|     723365|\n",
            "|   PUG|    70-79|    364377|     297449|     661826|\n",
            "|   PUG|    80-89|    213184|     203981|     417165|\n",
            "|   PUG|      90+|     47418|      44715|      92133|\n",
            "|   SAR|    12-19|     20348|       3880|      24228|\n",
            "|   SAR|    20-29|     64864|      24034|      88898|\n",
            "|   SAR|    30-39|     79355|      36763|     116118|\n",
            "|   SAR|    40-49|    151255|      94158|     245413|\n",
            "|   SAR|    50-59|    186110|     145418|     331528|\n",
            "|   SAR|    60-69|    178149|     110196|     288345|\n",
            "|   SAR|    70-79|    147581|     114694|     262275|\n",
            "|   SAR|    80-89|     87365|      83224|     170589|\n",
            "|   SAR|      90+|     19297|      17640|      36937|\n",
            "|   SIC|    12-19|    107797|      23496|     131293|\n",
            "|   SIC|    20-29|    262111|     103843|     365954|\n",
            "|   SIC|    30-39|    272620|     127281|     399901|\n",
            "|   SIC|    40-49|    381560|     253036|     634596|\n",
            "|   SIC|    50-59|    474628|     350186|     824814|\n",
            "|   SIC|    60-69|    444974|     330779|     775753|\n",
            "|   SIC|    70-79|    364106|     304055|     668161|\n",
            "|   SIC|    80-89|    216573|     204831|     421404|\n",
            "|   SIC|      90+|     45361|      41363|      86724|\n",
            "|   TOS|    12-19|     42158|       4467|      46625|\n",
            "|   TOS|    20-29|    139381|      52052|     191433|\n",
            "|   TOS|    30-39|    202026|      67804|     269830|\n",
            "|   TOS|    40-49|    277768|     115590|     393358|\n",
            "|   TOS|    50-59|    430421|     217310|     647731|\n",
            "|   TOS|    60-69|    386811|     212911|     599722|\n",
            "|   TOS|    70-79|    358083|     284463|     642546|\n",
            "|   TOS|    80-89|    250510|     242830|     493340|\n",
            "|   TOS|      90+|     63429|      60865|     124294|\n",
            "|   UMB|    12-19|      5893|       2166|       8059|\n",
            "|   UMB|    20-29|     21256|      15413|      36669|\n",
            "|   UMB|    30-39|     53143|      21645|      74788|\n",
            "|   UMB|    40-49|     82825|      33274|     116099|\n",
            "|   UMB|    50-59|    103251|      46812|     150063|\n",
            "|   UMB|    60-69|     93942|      63396|     157338|\n",
            "|   UMB|    70-79|     86072|      65031|     151103|\n",
            "|   UMB|    80-89|     60278|      58814|     119092|\n",
            "|   UMB|      90+|     16024|      15406|      31430|\n",
            "|   VDA|    12-19|      1235|        161|       1396|\n",
            "|   VDA|    20-29|      4870|       1663|       6533|\n",
            "|   VDA|    30-39|      6325|       2256|       8581|\n",
            "|   VDA|    40-49|      9961|       4798|      14759|\n",
            "|   VDA|    50-59|     14493|      11732|      26225|\n",
            "|   VDA|    60-69|     12260|       7952|      20212|\n",
            "|   VDA|    70-79|     10887|       9783|      20670|\n",
            "|   VDA|    80-89|      6948|       6731|      13679|\n",
            "|   VDA|      90+|      1635|       1606|       3241|\n",
            "|   VEN|    12-19|     71399|       9491|      80890|\n",
            "|   VEN|    20-29|    208697|      63979|     272676|\n",
            "|   VEN|    30-39|    217317|      78702|     296019|\n",
            "|   VEN|    40-49|    421424|     214280|     635704|\n",
            "|   VEN|    50-59|    564813|     482779|    1047592|\n",
            "|   VEN|    60-69|    488883|     329401|     818284|\n",
            "|   VEN|    70-79|    427856|     362584|     790440|\n",
            "|   VEN|    80-89|    282232|     274956|     557188|\n",
            "|   VEN|      90+|     65800|      62925|     128725|\n",
            "+------+---------+----------+-----------+-----------+\n",
            "\n"
          ],
          "name": "stdout"
        }
      ]
    }
  ]
}